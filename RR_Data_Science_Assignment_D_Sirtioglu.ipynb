{
  "nbformat": 4,
  "nbformat_minor": 0,
  "metadata": {
    "colab": {
      "name": "RR_Data_Science_Assignment_D_Sirtioglu.ipynb",
      "provenance": [],
      "collapsed_sections": [],
      "toc_visible": true,
      "include_colab_link": true
    },
    "kernelspec": {
      "name": "python3",
      "display_name": "Python 3"
    }
  },
  "cells": [
    {
      "cell_type": "markdown",
      "metadata": {
        "id": "view-in-github",
        "colab_type": "text"
      },
      "source": [
        "<a href=\"https://colab.research.google.com/github/dsirtioglu/python/blob/dsirtioglu-RR/RR_Data_Science_Assignment_D_Sirtioglu.ipynb\" target=\"_parent\"><img src=\"https://colab.research.google.com/assets/colab-badge.svg\" alt=\"Open In Colab\"/></a>"
      ]
    },
    {
      "cell_type": "markdown",
      "metadata": {
        "id": "euN4ryOx7u1n"
      },
      "source": [
        "#RaboResearch Data Science Assignment\n",
        "###Submitted by: Doruk Sirtioglu\n",
        "###Date: 05-02-2021"
      ]
    },
    {
      "cell_type": "markdown",
      "metadata": {
        "id": "6vzF87N0BIRC"
      },
      "source": [
        "##The problem\n",
        "\n",
        "We have a binary classification problem in this assignment. We will create the labels (positive equals buy and negative equals no investment) by answering the question below: \\\n",
        "\n",
        "If you buy some McDonald’s stock (MCD) today, are you guaranteed to make at least 10% profit in the coming 10 working days?\n",
        "\n",
        "###Assumptions: \n",
        "\n",
        "1. On the day of purchase, you buy with the highest price. On the day of sale, you sell with the lowest price of the day.\n",
        "2. If at least 10% profit is guaranteed within 10 working days, the label should be positive.\n",
        "3. You can sell any day after purchase (e.g. next working day) but not day of purchase and a maximum of 10 working days after purchase is the last possible day for selling (for labeling 15th June 2020, the first possible selling day is 16th June 2020 and the last possible selling day is 29th June 2020).\n",
        "4. Given your constraints by working in a bank, you are only allowed to purchase once\n",
        "and sell once within the 10 working days after purchase. \\\n",
        "\n",
        "The model should be predictive and only use data up to the date of purchase to train your model."
      ]
    },
    {
      "cell_type": "markdown",
      "metadata": {
        "id": "Adyk_53ioXlb"
      },
      "source": [
        "###Abstract\n",
        "\n",
        "In this project, we use McD ticker data together with additional related datasets to predict the performance of the McD stocks in the coming 10 days. We first explore the existing and merged data and create synthetic variables to be used in the model. Following the paper 'Stock market one-day ahead movement prediction using disparate data sources' by Weng, Ahmed and Megahed (2017), we select the model variables and trained SVM, DT and ANN models. We then evaluate their performance by the metrics: AUC, Accuracy, Precision, Recall, F1-Score and MCC. We observe the best performance with the SVM model and use it to predict the target. "
      ]
    },
    {
      "cell_type": "markdown",
      "metadata": {
        "id": "H7Zm-pOw8BZL"
      },
      "source": [
        "##Import data and libraries"
      ]
    },
    {
      "cell_type": "code",
      "metadata": {
        "colab": {
          "base_uri": "https://localhost:8080/"
        },
        "id": "JvV_o_RgraTV",
        "outputId": "2e240045-606c-4f99-becc-905f689dd7c6"
      },
      "source": [
        "#Install yfinance library and download features.xlsx\n",
        "!pip install yfinance -q\n",
        "\n",
        "!wget -O features.zip 'https://docs.google.com/uc?export=download&id=1BawB1Zm43rmk7HMftFWnwizN-cyd7nnD' -q --show-progress !unzip features.zip\n",
        "\n",
        "!wget -O label_raw.csv 'https://docs.google.com/uc?export=download&id=1cp5YFvszZuFw3IusD6EWKfL8AeCSf9Lg' -q --show-progress\n",
        "!ls"
      ],
      "execution_count": 28,
      "outputs": [
        {
          "output_type": "stream",
          "text": [
            "features.zip            [ <=>                ]   2.03M  --.-KB/s    in 0.01s   \n",
            "label_raw.csv       100%[===================>] 937.80K  --.-KB/s    in 0.01s   \n",
            "features.zip  label_raw.csv  sample_data\n"
          ],
          "name": "stdout"
        }
      ]
    },
    {
      "cell_type": "code",
      "metadata": {
        "id": "S4yO-H-ji5wl"
      },
      "source": [
        "#Import libraries\n",
        "\n",
        "import yfinance as yf\n",
        "\n",
        "import numpy as np\n",
        "import pandas as pd\n",
        "\n",
        "import matplotlib.pyplot as plt\n",
        "\n",
        "from pandas.tseries.offsets import MonthEnd\n",
        "import sqlite3\n",
        "\n",
        "!pip install sklearn -q\n",
        "\n",
        "from sklearn.model_selection import train_test_split\n",
        "\n",
        "#SVM\n",
        "from sklearn.svm import SVC\n",
        "\n",
        "#DT\n",
        "from sklearn.tree import DecisionTreeClassifier\n",
        "\n",
        "#ANN\n",
        "from sklearn.neural_network import MLPClassifier\n",
        "\n",
        "#Metrics\n",
        "from sklearn import metrics\n",
        "from sklearn.metrics import matthews_corrcoef\n",
        "import seaborn as sns\n",
        "from tabulate import tabulate"
      ],
      "execution_count": 29,
      "outputs": []
    },
    {
      "cell_type": "code",
      "metadata": {
        "id": "1bm-WmE4eI9Z"
      },
      "source": [
        "dataset_for_label = None"
      ],
      "execution_count": 30,
      "outputs": []
    },
    {
      "cell_type": "code",
      "metadata": {
        "colab": {
          "base_uri": "https://localhost:8080/",
          "height": 204
        },
        "id": "QMOajjlarnzf",
        "outputId": "e02682df-770e-4e0a-8de9-178748512ea3"
      },
      "source": [
        "#Import McD historic ticker data\n",
        "\n",
        "url_mcd = 'https://docs.google.com/uc?export=download&id=1cp5YFvszZuFw3IusD6EWKfL8AeCSf9Lg'\n",
        "\n",
        "dataset_for_label = pd.read_csv(url_mcd)\n",
        "dataset_for_label.Date = dataset_for_label.Date.astype('datetime64') \n",
        "\n",
        "#Obsolete:\n",
        "#msft = yf.Ticker(\"MCD\")\n",
        "#dataset_for_label = msft.history(period=\"max\") \n",
        "\n",
        "dataset_for_label.tail(5)"
      ],
      "execution_count": 31,
      "outputs": [
        {
          "output_type": "execute_result",
          "data": {
            "text/html": [
              "<div>\n",
              "<style scoped>\n",
              "    .dataframe tbody tr th:only-of-type {\n",
              "        vertical-align: middle;\n",
              "    }\n",
              "\n",
              "    .dataframe tbody tr th {\n",
              "        vertical-align: top;\n",
              "    }\n",
              "\n",
              "    .dataframe thead th {\n",
              "        text-align: right;\n",
              "    }\n",
              "</style>\n",
              "<table border=\"1\" class=\"dataframe\">\n",
              "  <thead>\n",
              "    <tr style=\"text-align: right;\">\n",
              "      <th></th>\n",
              "      <th>Date</th>\n",
              "      <th>Open</th>\n",
              "      <th>High</th>\n",
              "      <th>Low</th>\n",
              "      <th>Close</th>\n",
              "      <th>Volume</th>\n",
              "      <th>Dividends</th>\n",
              "      <th>Stock Splits</th>\n",
              "    </tr>\n",
              "  </thead>\n",
              "  <tbody>\n",
              "    <tr>\n",
              "      <th>13723</th>\n",
              "      <td>2021-01-11</td>\n",
              "      <td>215.089996</td>\n",
              "      <td>216.119995</td>\n",
              "      <td>213.119995</td>\n",
              "      <td>214.229996</td>\n",
              "      <td>2545900</td>\n",
              "      <td>0.0</td>\n",
              "      <td>0.0</td>\n",
              "    </tr>\n",
              "    <tr>\n",
              "      <th>13724</th>\n",
              "      <td>2021-01-12</td>\n",
              "      <td>213.690002</td>\n",
              "      <td>214.330002</td>\n",
              "      <td>210.940002</td>\n",
              "      <td>211.600006</td>\n",
              "      <td>2952000</td>\n",
              "      <td>0.0</td>\n",
              "      <td>0.0</td>\n",
              "    </tr>\n",
              "    <tr>\n",
              "      <th>13725</th>\n",
              "      <td>2021-01-13</td>\n",
              "      <td>210.910004</td>\n",
              "      <td>213.130005</td>\n",
              "      <td>210.899994</td>\n",
              "      <td>212.089996</td>\n",
              "      <td>2069800</td>\n",
              "      <td>0.0</td>\n",
              "      <td>0.0</td>\n",
              "    </tr>\n",
              "    <tr>\n",
              "      <th>13726</th>\n",
              "      <td>2021-01-14</td>\n",
              "      <td>212.100006</td>\n",
              "      <td>212.669998</td>\n",
              "      <td>208.000000</td>\n",
              "      <td>208.500000</td>\n",
              "      <td>3666700</td>\n",
              "      <td>0.0</td>\n",
              "      <td>0.0</td>\n",
              "    </tr>\n",
              "    <tr>\n",
              "      <th>13727</th>\n",
              "      <td>2021-01-15</td>\n",
              "      <td>207.970001</td>\n",
              "      <td>210.699997</td>\n",
              "      <td>207.419998</td>\n",
              "      <td>209.910004</td>\n",
              "      <td>3592900</td>\n",
              "      <td>0.0</td>\n",
              "      <td>0.0</td>\n",
              "    </tr>\n",
              "  </tbody>\n",
              "</table>\n",
              "</div>"
            ],
            "text/plain": [
              "            Date        Open        High  ...   Volume  Dividends  Stock Splits\n",
              "13723 2021-01-11  215.089996  216.119995  ...  2545900        0.0           0.0\n",
              "13724 2021-01-12  213.690002  214.330002  ...  2952000        0.0           0.0\n",
              "13725 2021-01-13  210.910004  213.130005  ...  2069800        0.0           0.0\n",
              "13726 2021-01-14  212.100006  212.669998  ...  3666700        0.0           0.0\n",
              "13727 2021-01-15  207.970001  210.699997  ...  3592900        0.0           0.0\n",
              "\n",
              "[5 rows x 8 columns]"
            ]
          },
          "metadata": {
            "tags": []
          },
          "execution_count": 31
        }
      ]
    },
    {
      "cell_type": "code",
      "metadata": {
        "id": "Cxi_SYqJerXX",
        "colab": {
          "base_uri": "https://localhost:8080/",
          "height": 235
        },
        "outputId": "6dc2cc68-03c3-41b4-93d2-84bb6df7d202"
      },
      "source": [
        "#Define 'Date' as index\n",
        "\n",
        "dataset_for_label['Date'] = pd.to_datetime(dataset_for_label['Date'])\n",
        "dataset_for_label.set_index('Date', inplace=True)\n",
        "\n",
        "dataset_for_label.insert(0,'Date','')\n",
        "dataset_for_label['Date'] = dataset_for_label.index\n",
        "dataset_for_label.tail(5)"
      ],
      "execution_count": 32,
      "outputs": [
        {
          "output_type": "execute_result",
          "data": {
            "text/html": [
              "<div>\n",
              "<style scoped>\n",
              "    .dataframe tbody tr th:only-of-type {\n",
              "        vertical-align: middle;\n",
              "    }\n",
              "\n",
              "    .dataframe tbody tr th {\n",
              "        vertical-align: top;\n",
              "    }\n",
              "\n",
              "    .dataframe thead th {\n",
              "        text-align: right;\n",
              "    }\n",
              "</style>\n",
              "<table border=\"1\" class=\"dataframe\">\n",
              "  <thead>\n",
              "    <tr style=\"text-align: right;\">\n",
              "      <th></th>\n",
              "      <th>Date</th>\n",
              "      <th>Open</th>\n",
              "      <th>High</th>\n",
              "      <th>Low</th>\n",
              "      <th>Close</th>\n",
              "      <th>Volume</th>\n",
              "      <th>Dividends</th>\n",
              "      <th>Stock Splits</th>\n",
              "    </tr>\n",
              "    <tr>\n",
              "      <th>Date</th>\n",
              "      <th></th>\n",
              "      <th></th>\n",
              "      <th></th>\n",
              "      <th></th>\n",
              "      <th></th>\n",
              "      <th></th>\n",
              "      <th></th>\n",
              "      <th></th>\n",
              "    </tr>\n",
              "  </thead>\n",
              "  <tbody>\n",
              "    <tr>\n",
              "      <th>2021-01-11</th>\n",
              "      <td>2021-01-11</td>\n",
              "      <td>215.089996</td>\n",
              "      <td>216.119995</td>\n",
              "      <td>213.119995</td>\n",
              "      <td>214.229996</td>\n",
              "      <td>2545900</td>\n",
              "      <td>0.0</td>\n",
              "      <td>0.0</td>\n",
              "    </tr>\n",
              "    <tr>\n",
              "      <th>2021-01-12</th>\n",
              "      <td>2021-01-12</td>\n",
              "      <td>213.690002</td>\n",
              "      <td>214.330002</td>\n",
              "      <td>210.940002</td>\n",
              "      <td>211.600006</td>\n",
              "      <td>2952000</td>\n",
              "      <td>0.0</td>\n",
              "      <td>0.0</td>\n",
              "    </tr>\n",
              "    <tr>\n",
              "      <th>2021-01-13</th>\n",
              "      <td>2021-01-13</td>\n",
              "      <td>210.910004</td>\n",
              "      <td>213.130005</td>\n",
              "      <td>210.899994</td>\n",
              "      <td>212.089996</td>\n",
              "      <td>2069800</td>\n",
              "      <td>0.0</td>\n",
              "      <td>0.0</td>\n",
              "    </tr>\n",
              "    <tr>\n",
              "      <th>2021-01-14</th>\n",
              "      <td>2021-01-14</td>\n",
              "      <td>212.100006</td>\n",
              "      <td>212.669998</td>\n",
              "      <td>208.000000</td>\n",
              "      <td>208.500000</td>\n",
              "      <td>3666700</td>\n",
              "      <td>0.0</td>\n",
              "      <td>0.0</td>\n",
              "    </tr>\n",
              "    <tr>\n",
              "      <th>2021-01-15</th>\n",
              "      <td>2021-01-15</td>\n",
              "      <td>207.970001</td>\n",
              "      <td>210.699997</td>\n",
              "      <td>207.419998</td>\n",
              "      <td>209.910004</td>\n",
              "      <td>3592900</td>\n",
              "      <td>0.0</td>\n",
              "      <td>0.0</td>\n",
              "    </tr>\n",
              "  </tbody>\n",
              "</table>\n",
              "</div>"
            ],
            "text/plain": [
              "                 Date        Open        High  ...   Volume  Dividends  Stock Splits\n",
              "Date                                           ...                                  \n",
              "2021-01-11 2021-01-11  215.089996  216.119995  ...  2545900        0.0           0.0\n",
              "2021-01-12 2021-01-12  213.690002  214.330002  ...  2952000        0.0           0.0\n",
              "2021-01-13 2021-01-13  210.910004  213.130005  ...  2069800        0.0           0.0\n",
              "2021-01-14 2021-01-14  212.100006  212.669998  ...  3666700        0.0           0.0\n",
              "2021-01-15 2021-01-15  207.970001  210.699997  ...  3592900        0.0           0.0\n",
              "\n",
              "[5 rows x 8 columns]"
            ]
          },
          "metadata": {
            "tags": []
          },
          "execution_count": 32
        }
      ]
    },
    {
      "cell_type": "code",
      "metadata": {
        "id": "g-icST_yoiww",
        "colab": {
          "base_uri": "https://localhost:8080/",
          "height": 235
        },
        "outputId": "927c6c95-9300-4718-ff20-b8aa0162a2a1"
      },
      "source": [
        "#Import NYSE historic data\n",
        "\n",
        "Ticker = yf.Ticker(\"^NYA\")\n",
        "NYSE_Dataset = Ticker.history(period=\"Max\")\n",
        "NYSE_Dataset.insert(0,'Date','')\n",
        "NYSE_Dataset[\"Date\"] = NYSE_Dataset.index\n",
        "NYSE_Dataset.tail(5)"
      ],
      "execution_count": 90,
      "outputs": [
        {
          "output_type": "execute_result",
          "data": {
            "text/html": [
              "<div>\n",
              "<style scoped>\n",
              "    .dataframe tbody tr th:only-of-type {\n",
              "        vertical-align: middle;\n",
              "    }\n",
              "\n",
              "    .dataframe tbody tr th {\n",
              "        vertical-align: top;\n",
              "    }\n",
              "\n",
              "    .dataframe thead th {\n",
              "        text-align: right;\n",
              "    }\n",
              "</style>\n",
              "<table border=\"1\" class=\"dataframe\">\n",
              "  <thead>\n",
              "    <tr style=\"text-align: right;\">\n",
              "      <th></th>\n",
              "      <th>Date</th>\n",
              "      <th>Open</th>\n",
              "      <th>High</th>\n",
              "      <th>Low</th>\n",
              "      <th>Close</th>\n",
              "      <th>Volume</th>\n",
              "      <th>Dividends</th>\n",
              "      <th>Stock Splits</th>\n",
              "    </tr>\n",
              "    <tr>\n",
              "      <th>Date</th>\n",
              "      <th></th>\n",
              "      <th></th>\n",
              "      <th></th>\n",
              "      <th></th>\n",
              "      <th></th>\n",
              "      <th></th>\n",
              "      <th></th>\n",
              "      <th></th>\n",
              "    </tr>\n",
              "  </thead>\n",
              "  <tbody>\n",
              "    <tr>\n",
              "      <th>2021-06-01</th>\n",
              "      <td>2021-06-01</td>\n",
              "      <td>16555.660156</td>\n",
              "      <td>16718.669922</td>\n",
              "      <td>16555.660156</td>\n",
              "      <td>16643.320312</td>\n",
              "      <td>4122960000</td>\n",
              "      <td>0</td>\n",
              "      <td>0</td>\n",
              "    </tr>\n",
              "    <tr>\n",
              "      <th>2021-06-02</th>\n",
              "      <td>2021-06-02</td>\n",
              "      <td>16643.320312</td>\n",
              "      <td>16691.960938</td>\n",
              "      <td>16620.550781</td>\n",
              "      <td>16673.960938</td>\n",
              "      <td>4860930000</td>\n",
              "      <td>0</td>\n",
              "      <td>0</td>\n",
              "    </tr>\n",
              "    <tr>\n",
              "      <th>2021-06-03</th>\n",
              "      <td>2021-06-03</td>\n",
              "      <td>16673.960938</td>\n",
              "      <td>16673.960938</td>\n",
              "      <td>16530.199219</td>\n",
              "      <td>16632.339844</td>\n",
              "      <td>4579450000</td>\n",
              "      <td>0</td>\n",
              "      <td>0</td>\n",
              "    </tr>\n",
              "    <tr>\n",
              "      <th>2021-06-04</th>\n",
              "      <td>2021-06-04</td>\n",
              "      <td>16632.339844</td>\n",
              "      <td>16718.009766</td>\n",
              "      <td>16632.339844</td>\n",
              "      <td>16708.740234</td>\n",
              "      <td>3487070000</td>\n",
              "      <td>0</td>\n",
              "      <td>0</td>\n",
              "    </tr>\n",
              "    <tr>\n",
              "      <th>2021-06-07</th>\n",
              "      <td>2021-06-07</td>\n",
              "      <td>16708.699219</td>\n",
              "      <td>16725.546875</td>\n",
              "      <td>16669.904297</td>\n",
              "      <td>16690.449219</td>\n",
              "      <td>0</td>\n",
              "      <td>0</td>\n",
              "      <td>0</td>\n",
              "    </tr>\n",
              "  </tbody>\n",
              "</table>\n",
              "</div>"
            ],
            "text/plain": [
              "                 Date          Open  ...  Dividends  Stock Splits\n",
              "Date                                 ...                         \n",
              "2021-06-01 2021-06-01  16555.660156  ...          0             0\n",
              "2021-06-02 2021-06-02  16643.320312  ...          0             0\n",
              "2021-06-03 2021-06-03  16673.960938  ...          0             0\n",
              "2021-06-04 2021-06-04  16632.339844  ...          0             0\n",
              "2021-06-07 2021-06-07  16708.699219  ...          0             0\n",
              "\n",
              "[5 rows x 8 columns]"
            ]
          },
          "metadata": {
            "tags": []
          },
          "execution_count": 90
        }
      ]
    },
    {
      "cell_type": "markdown",
      "metadata": {
        "id": "u-u5NuKVSntC"
      },
      "source": [
        "##Exploring the data and adding synthetic variables"
      ]
    },
    {
      "cell_type": "code",
      "metadata": {
        "colab": {
          "base_uri": "https://localhost:8080/"
        },
        "id": "S5_zecxZ8XGU",
        "outputId": "42b3cdc7-79a7-414c-c272-142c21512ff6"
      },
      "source": [
        "#Row and column count\n",
        "\n",
        "dataset_for_label.idxmax"
      ],
      "execution_count": 34,
      "outputs": [
        {
          "output_type": "execute_result",
          "data": {
            "text/plain": [
              "<bound method DataFrame.idxmax of                  Date        Open        High  ...   Volume  Dividends  Stock Splits\n",
              "Date                                           ...                                  \n",
              "1966-07-05 1966-07-05    0.000000    0.004074  ...   388800        0.0           0.0\n",
              "1966-07-06 1966-07-06    0.000000    0.004227  ...   687200        0.0           0.0\n",
              "1966-07-07 1966-07-07    0.000000    0.004335  ...  1853600        0.0           0.0\n",
              "1966-07-08 1966-07-08    0.000000    0.004120  ...  1238400        0.0           0.0\n",
              "1966-07-11 1966-07-11    0.000000    0.004227  ...   655200        0.0           0.0\n",
              "...               ...         ...         ...  ...      ...        ...           ...\n",
              "2021-01-11 2021-01-11  215.089996  216.119995  ...  2545900        0.0           0.0\n",
              "2021-01-12 2021-01-12  213.690002  214.330002  ...  2952000        0.0           0.0\n",
              "2021-01-13 2021-01-13  210.910004  213.130005  ...  2069800        0.0           0.0\n",
              "2021-01-14 2021-01-14  212.100006  212.669998  ...  3666700        0.0           0.0\n",
              "2021-01-15 2021-01-15  207.970001  210.699997  ...  3592900        0.0           0.0\n",
              "\n",
              "[13728 rows x 8 columns]>"
            ]
          },
          "metadata": {
            "tags": []
          },
          "execution_count": 34
        }
      ]
    },
    {
      "cell_type": "code",
      "metadata": {
        "colab": {
          "base_uri": "https://localhost:8080/",
          "height": 297
        },
        "id": "IyWHIGhL993x",
        "outputId": "106b0fc2-82d1-484e-e6c1-8d786b0f1bb6"
      },
      "source": [
        "#Descriptive statistics\n",
        "\n",
        "dataset_for_label.describe()"
      ],
      "execution_count": 35,
      "outputs": [
        {
          "output_type": "execute_result",
          "data": {
            "text/html": [
              "<div>\n",
              "<style scoped>\n",
              "    .dataframe tbody tr th:only-of-type {\n",
              "        vertical-align: middle;\n",
              "    }\n",
              "\n",
              "    .dataframe tbody tr th {\n",
              "        vertical-align: top;\n",
              "    }\n",
              "\n",
              "    .dataframe thead th {\n",
              "        text-align: right;\n",
              "    }\n",
              "</style>\n",
              "<table border=\"1\" class=\"dataframe\">\n",
              "  <thead>\n",
              "    <tr style=\"text-align: right;\">\n",
              "      <th></th>\n",
              "      <th>Open</th>\n",
              "      <th>High</th>\n",
              "      <th>Low</th>\n",
              "      <th>Close</th>\n",
              "      <th>Volume</th>\n",
              "      <th>Dividends</th>\n",
              "      <th>Stock Splits</th>\n",
              "    </tr>\n",
              "  </thead>\n",
              "  <tbody>\n",
              "    <tr>\n",
              "      <th>count</th>\n",
              "      <td>13728.000000</td>\n",
              "      <td>13728.000000</td>\n",
              "      <td>13728.000000</td>\n",
              "      <td>13728.000000</td>\n",
              "      <td>1.372800e+04</td>\n",
              "      <td>13728.000000</td>\n",
              "      <td>13728.000000</td>\n",
              "    </tr>\n",
              "    <tr>\n",
              "      <th>mean</th>\n",
              "      <td>29.242837</td>\n",
              "      <td>29.482376</td>\n",
              "      <td>29.008394</td>\n",
              "      <td>29.250153</td>\n",
              "      <td>4.361553e+06</td>\n",
              "      <td>0.004144</td>\n",
              "      <td>0.001129</td>\n",
              "    </tr>\n",
              "    <tr>\n",
              "      <th>std</th>\n",
              "      <td>48.212416</td>\n",
              "      <td>48.572002</td>\n",
              "      <td>47.849269</td>\n",
              "      <td>48.213585</td>\n",
              "      <td>3.172883e+06</td>\n",
              "      <td>0.056896</td>\n",
              "      <td>0.044541</td>\n",
              "    </tr>\n",
              "    <tr>\n",
              "      <th>min</th>\n",
              "      <td>0.000000</td>\n",
              "      <td>0.002328</td>\n",
              "      <td>0.002267</td>\n",
              "      <td>0.002298</td>\n",
              "      <td>4.800000e+04</td>\n",
              "      <td>0.000000</td>\n",
              "      <td>0.000000</td>\n",
              "    </tr>\n",
              "    <tr>\n",
              "      <th>25%</th>\n",
              "      <td>0.025791</td>\n",
              "      <td>0.026079</td>\n",
              "      <td>0.025408</td>\n",
              "      <td>0.025788</td>\n",
              "      <td>2.380350e+06</td>\n",
              "      <td>0.000000</td>\n",
              "      <td>0.000000</td>\n",
              "    </tr>\n",
              "    <tr>\n",
              "      <th>50%</th>\n",
              "      <td>7.604995</td>\n",
              "      <td>7.667455</td>\n",
              "      <td>7.532961</td>\n",
              "      <td>7.591115</td>\n",
              "      <td>3.710300e+06</td>\n",
              "      <td>0.000000</td>\n",
              "      <td>0.000000</td>\n",
              "    </tr>\n",
              "    <tr>\n",
              "      <th>75%</th>\n",
              "      <td>32.429903</td>\n",
              "      <td>32.745175</td>\n",
              "      <td>32.019403</td>\n",
              "      <td>32.428267</td>\n",
              "      <td>5.539825e+06</td>\n",
              "      <td>0.000000</td>\n",
              "      <td>0.000000</td>\n",
              "    </tr>\n",
              "    <tr>\n",
              "      <th>max</th>\n",
              "      <td>229.048626</td>\n",
              "      <td>230.539771</td>\n",
              "      <td>227.796069</td>\n",
              "      <td>228.283173</td>\n",
              "      <td>8.698130e+07</td>\n",
              "      <td>1.500000</td>\n",
              "      <td>2.000000</td>\n",
              "    </tr>\n",
              "  </tbody>\n",
              "</table>\n",
              "</div>"
            ],
            "text/plain": [
              "               Open          High  ...     Dividends  Stock Splits\n",
              "count  13728.000000  13728.000000  ...  13728.000000  13728.000000\n",
              "mean      29.242837     29.482376  ...      0.004144      0.001129\n",
              "std       48.212416     48.572002  ...      0.056896      0.044541\n",
              "min        0.000000      0.002328  ...      0.000000      0.000000\n",
              "25%        0.025791      0.026079  ...      0.000000      0.000000\n",
              "50%        7.604995      7.667455  ...      0.000000      0.000000\n",
              "75%       32.429903     32.745175  ...      0.000000      0.000000\n",
              "max      229.048626    230.539771  ...      1.500000      2.000000\n",
              "\n",
              "[8 rows x 7 columns]"
            ]
          },
          "metadata": {
            "tags": []
          },
          "execution_count": 35
        }
      ]
    },
    {
      "cell_type": "code",
      "metadata": {
        "colab": {
          "base_uri": "https://localhost:8080/"
        },
        "id": "KxhMUVp--JoW",
        "outputId": "8b8fb220-3e13-4f69-8b3f-cbd9556ced42"
      },
      "source": [
        "#Check whether there are any NaNs\n",
        "\n",
        "dataset_for_label.isnull().values.any()"
      ],
      "execution_count": 36,
      "outputs": [
        {
          "output_type": "execute_result",
          "data": {
            "text/plain": [
              "False"
            ]
          },
          "metadata": {
            "tags": []
          },
          "execution_count": 36
        }
      ]
    },
    {
      "cell_type": "code",
      "metadata": {
        "colab": {
          "base_uri": "https://localhost:8080/"
        },
        "id": "zeQwKl3NsdjB",
        "outputId": "d50b8897-b648-40cb-9fe5-1af721a02bcd"
      },
      "source": [
        "#Define 'Date' as datetime\n",
        "\n",
        "#dataset_for_label.Date = dataset_for_label.Date.astype('datetime64[ns]') \n",
        "dataset_for_label.dtypes"
      ],
      "execution_count": 37,
      "outputs": [
        {
          "output_type": "execute_result",
          "data": {
            "text/plain": [
              "Date            datetime64[ns]\n",
              "Open                   float64\n",
              "High                   float64\n",
              "Low                    float64\n",
              "Close                  float64\n",
              "Volume                   int64\n",
              "Dividends              float64\n",
              "Stock Splits           float64\n",
              "dtype: object"
            ]
          },
          "metadata": {
            "tags": []
          },
          "execution_count": 37
        }
      ]
    },
    {
      "cell_type": "markdown",
      "metadata": {
        "id": "CVHVFKPpDxRf"
      },
      "source": [
        "Our target is to detect the days which have at least 10% increase in the following ten days. Hence we create ten new columns that checks for such case in any of the ten days. Then we control whether any of these ten columns have a positive class with the new column called 'CheckAnyFw10d' where 1 is 'yes' and 0 is 'no'. We will refer to the 'yes' cases as \"positive dates\" hereafter."
      ]
    },
    {
      "cell_type": "code",
      "metadata": {
        "id": "guC38IOpr2pM"
      },
      "source": [
        "#Create binary variables to check if there has been 10% increase in any of the coming 10 days\n",
        "\n",
        "for x in range(1,11):\n",
        "  exec('dataset_for_label[\"CheckFw' + str(x) + 'd\"] = np.where((dataset_for_label.Low.shift(-' + str(x) + ') / dataset_for_label.High) >= 1.1, 1, 0)')\n",
        "  ;\n",
        "\n",
        "dataset_for_label[\"CheckAnyFw10d\"] = np.where(dataset_for_label.filter(like='CheckFw').sum(axis = 1, skipna = True) > 0, 1, 0) "
      ],
      "execution_count": 38,
      "outputs": []
    },
    {
      "cell_type": "markdown",
      "metadata": {
        "id": "wxBXQKNz-YQn"
      },
      "source": [
        "###Defining the observation scope"
      ]
    },
    {
      "cell_type": "code",
      "metadata": {
        "colab": {
          "base_uri": "https://localhost:8080/"
        },
        "id": "V4F3MRSk-1O8",
        "outputId": "bbb0fcd9-d831-4018-e6c4-52b0009db2ca"
      },
      "source": [
        "#Compare the number of positive days to the non-positive days for the entire dataset\n",
        "\n",
        "dataset_for_label[\"CheckAnyFw10d\"].value_counts()"
      ],
      "execution_count": 39,
      "outputs": [
        {
          "output_type": "execute_result",
          "data": {
            "text/plain": [
              "0    13224\n",
              "1      504\n",
              "Name: CheckAnyFw10d, dtype: int64"
            ]
          },
          "metadata": {
            "tags": []
          },
          "execution_count": 39
        }
      ]
    },
    {
      "cell_type": "markdown",
      "metadata": {
        "id": "l7DMgXgz_SUY"
      },
      "source": [
        "In their study, Weng et. al. (2017) use a three year scope to train their model. Although scoping down would result having less data to work with, doing so helps giving more weight to the recent data, which in turn helps capturing the 'essence of today'. Given the very low frequency of positive cases, we extend the scope to 21 years, starting from 01-01-2000. This enables including a significant amount of positive cases between 2000 and 2004."
      ]
    },
    {
      "cell_type": "code",
      "metadata": {
        "id": "Gr_Ws1FF8gOv"
      },
      "source": [
        "#Define the observation scope\n",
        "\n",
        "Today = dataset_for_label.index.max()\n",
        "\n",
        "min_date = '2000-01-01'\n",
        "max_date = Today"
      ],
      "execution_count": 40,
      "outputs": []
    },
    {
      "cell_type": "code",
      "metadata": {
        "colab": {
          "base_uri": "https://localhost:8080/",
          "height": 433
        },
        "id": "PPIPlhCJKsS0",
        "outputId": "b04165c1-1031-4f74-e68e-395e785addcb"
      },
      "source": [
        "#Visualize the distribution of positive dates throught the observation scope\n",
        "\n",
        "plt.scatter(dataset_for_label[dataset_for_label['Date'] >= min_date]['Date'], dataset_for_label[dataset_for_label['Date'] >= min_date]['CheckAnyFw10d'])\n",
        "plt.title('Distribution of positive dates over the observation scope')\n",
        "\n",
        "plt.rcParams['figure.dpi'] = 100\n",
        "plt.rcParams[\"figure.figsize\"] = (10, 5)"
      ],
      "execution_count": 41,
      "outputs": [
        {
          "output_type": "display_data",
          "data": {
            "image/png": "[encoded data removed]",
            "text/plain": [
              "<Figure size 700x490 with 1 Axes>"
            ]
          },
          "metadata": {
            "tags": [],
            "needs_background": "light"
          }
        }
      ]
    },
    {
      "cell_type": "code",
      "metadata": {
        "colab": {
          "base_uri": "https://localhost:8080/"
        },
        "id": "Sr5KpNPUYqcQ",
        "outputId": "1fc927de-17c7-46c7-cb60-f22cd2c974ed"
      },
      "source": [
        "#Compare the number of positive days to the non-positive days within the observation scope\n",
        "\n",
        "dataset_for_label[(dataset_for_label['Date'] >= min_date) & (dataset_for_label['Date'] <= max_date)][\"CheckAnyFw10d\"].value_counts()"
      ],
      "execution_count": 42,
      "outputs": [
        {
          "output_type": "execute_result",
          "data": {
            "text/plain": [
              "0    5263\n",
              "1      31\n",
              "Name: CheckAnyFw10d, dtype: int64"
            ]
          },
          "metadata": {
            "tags": []
          },
          "execution_count": 42
        }
      ]
    },
    {
      "cell_type": "markdown",
      "metadata": {
        "id": "QbLPtssPBlO4"
      },
      "source": [
        "We create a copy of the original dataset to include data only from the scoped dates."
      ]
    },
    {
      "cell_type": "code",
      "metadata": {
        "id": "1osJKOcN0Cuu",
        "colab": {
          "base_uri": "https://localhost:8080/",
          "height": 235
        },
        "outputId": "599ad79c-ef8b-44a1-8cfb-9587afb5c013"
      },
      "source": [
        "#Define a copy of the dataset with the date scope\n",
        "\n",
        "dataset_scoped = dataset_for_label[dataset_for_label['Date'] >= min_date].copy()\n",
        "\n",
        "#Set date as index\n",
        "\n",
        "dataset_scoped.set_index('Date', inplace=True)\n",
        "dataset_scoped.insert(0,'Date','')\n",
        "dataset_scoped['Date'] = dataset_scoped.index\n",
        "dataset_scoped.tail(5)\n"
      ],
      "execution_count": 43,
      "outputs": [
        {
          "output_type": "execute_result",
          "data": {
            "text/html": [
              "<div>\n",
              "<style scoped>\n",
              "    .dataframe tbody tr th:only-of-type {\n",
              "        vertical-align: middle;\n",
              "    }\n",
              "\n",
              "    .dataframe tbody tr th {\n",
              "        vertical-align: top;\n",
              "    }\n",
              "\n",
              "    .dataframe thead th {\n",
              "        text-align: right;\n",
              "    }\n",
              "</style>\n",
              "<table border=\"1\" class=\"dataframe\">\n",
              "  <thead>\n",
              "    <tr style=\"text-align: right;\">\n",
              "      <th></th>\n",
              "      <th>Date</th>\n",
              "      <th>Open</th>\n",
              "      <th>High</th>\n",
              "      <th>Low</th>\n",
              "      <th>Close</th>\n",
              "      <th>Volume</th>\n",
              "      <th>Dividends</th>\n",
              "      <th>Stock Splits</th>\n",
              "      <th>CheckFw1d</th>\n",
              "      <th>CheckFw2d</th>\n",
              "      <th>CheckFw3d</th>\n",
              "      <th>CheckFw4d</th>\n",
              "      <th>CheckFw5d</th>\n",
              "      <th>CheckFw6d</th>\n",
              "      <th>CheckFw7d</th>\n",
              "      <th>CheckFw8d</th>\n",
              "      <th>CheckFw9d</th>\n",
              "      <th>CheckFw10d</th>\n",
              "      <th>CheckAnyFw10d</th>\n",
              "    </tr>\n",
              "    <tr>\n",
              "      <th>Date</th>\n",
              "      <th></th>\n",
              "      <th></th>\n",
              "      <th></th>\n",
              "      <th></th>\n",
              "      <th></th>\n",
              "      <th></th>\n",
              "      <th></th>\n",
              "      <th></th>\n",
              "      <th></th>\n",
              "      <th></th>\n",
              "      <th></th>\n",
              "      <th></th>\n",
              "      <th></th>\n",
              "      <th></th>\n",
              "      <th></th>\n",
              "      <th></th>\n",
              "      <th></th>\n",
              "      <th></th>\n",
              "      <th></th>\n",
              "    </tr>\n",
              "  </thead>\n",
              "  <tbody>\n",
              "    <tr>\n",
              "      <th>2021-01-11</th>\n",
              "      <td>2021-01-11</td>\n",
              "      <td>215.089996</td>\n",
              "      <td>216.119995</td>\n",
              "      <td>213.119995</td>\n",
              "      <td>214.229996</td>\n",
              "      <td>2545900</td>\n",
              "      <td>0.0</td>\n",
              "      <td>0.0</td>\n",
              "      <td>0</td>\n",
              "      <td>0</td>\n",
              "      <td>0</td>\n",
              "      <td>0</td>\n",
              "      <td>0</td>\n",
              "      <td>0</td>\n",
              "      <td>0</td>\n",
              "      <td>0</td>\n",
              "      <td>0</td>\n",
              "      <td>0</td>\n",
              "      <td>0</td>\n",
              "    </tr>\n",
              "    <tr>\n",
              "      <th>2021-01-12</th>\n",
              "      <td>2021-01-12</td>\n",
              "      <td>213.690002</td>\n",
              "      <td>214.330002</td>\n",
              "      <td>210.940002</td>\n",
              "      <td>211.600006</td>\n",
              "      <td>2952000</td>\n",
              "      <td>0.0</td>\n",
              "      <td>0.0</td>\n",
              "      <td>0</td>\n",
              "      <td>0</td>\n",
              "      <td>0</td>\n",
              "      <td>0</td>\n",
              "      <td>0</td>\n",
              "      <td>0</td>\n",
              "      <td>0</td>\n",
              "      <td>0</td>\n",
              "      <td>0</td>\n",
              "      <td>0</td>\n",
              "      <td>0</td>\n",
              "    </tr>\n",
              "    <tr>\n",
              "      <th>2021-01-13</th>\n",
              "      <td>2021-01-13</td>\n",
              "      <td>210.910004</td>\n",
              "      <td>213.130005</td>\n",
              "      <td>210.899994</td>\n",
              "      <td>212.089996</td>\n",
              "      <td>2069800</td>\n",
              "      <td>0.0</td>\n",
              "      <td>0.0</td>\n",
              "      <td>0</td>\n",
              "      <td>0</td>\n",
              "      <td>0</td>\n",
              "      <td>0</td>\n",
              "      <td>0</td>\n",
              "      <td>0</td>\n",
              "      <td>0</td>\n",
              "      <td>0</td>\n",
              "      <td>0</td>\n",
              "      <td>0</td>\n",
              "      <td>0</td>\n",
              "    </tr>\n",
              "    <tr>\n",
              "      <th>2021-01-14</th>\n",
              "      <td>2021-01-14</td>\n",
              "      <td>212.100006</td>\n",
              "      <td>212.669998</td>\n",
              "      <td>208.000000</td>\n",
              "      <td>208.500000</td>\n",
              "      <td>3666700</td>\n",
              "      <td>0.0</td>\n",
              "      <td>0.0</td>\n",
              "      <td>0</td>\n",
              "      <td>0</td>\n",
              "      <td>0</td>\n",
              "      <td>0</td>\n",
              "      <td>0</td>\n",
              "      <td>0</td>\n",
              "      <td>0</td>\n",
              "      <td>0</td>\n",
              "      <td>0</td>\n",
              "      <td>0</td>\n",
              "      <td>0</td>\n",
              "    </tr>\n",
              "    <tr>\n",
              "      <th>2021-01-15</th>\n",
              "      <td>2021-01-15</td>\n",
              "      <td>207.970001</td>\n",
              "      <td>210.699997</td>\n",
              "      <td>207.419998</td>\n",
              "      <td>209.910004</td>\n",
              "      <td>3592900</td>\n",
              "      <td>0.0</td>\n",
              "      <td>0.0</td>\n",
              "      <td>0</td>\n",
              "      <td>0</td>\n",
              "      <td>0</td>\n",
              "      <td>0</td>\n",
              "      <td>0</td>\n",
              "      <td>0</td>\n",
              "      <td>0</td>\n",
              "      <td>0</td>\n",
              "      <td>0</td>\n",
              "      <td>0</td>\n",
              "      <td>0</td>\n",
              "    </tr>\n",
              "  </tbody>\n",
              "</table>\n",
              "</div>"
            ],
            "text/plain": [
              "                 Date        Open  ...  CheckFw10d  CheckAnyFw10d\n",
              "Date                               ...                           \n",
              "2021-01-11 2021-01-11  215.089996  ...           0              0\n",
              "2021-01-12 2021-01-12  213.690002  ...           0              0\n",
              "2021-01-13 2021-01-13  210.910004  ...           0              0\n",
              "2021-01-14 2021-01-14  212.100006  ...           0              0\n",
              "2021-01-15 2021-01-15  207.970001  ...           0              0\n",
              "\n",
              "[5 rows x 19 columns]"
            ]
          },
          "metadata": {
            "tags": []
          },
          "execution_count": 43
        }
      ]
    },
    {
      "cell_type": "markdown",
      "metadata": {
        "id": "roOWaiGxB0wP"
      },
      "source": [
        "Furthermore, we try to observe if there is a relationship between the price changes and the traded volume. To do so, we visualize the normalized variables. Normalization facilitates easier readability of the graph."
      ]
    },
    {
      "cell_type": "code",
      "metadata": {
        "id": "los1G7QyLvRQ"
      },
      "source": [
        "#Normalize variables\n",
        "\n",
        "#Volume:\n",
        "from sklearn import preprocessing\n",
        "\n",
        "scaler = preprocessing.MinMaxScaler(feature_range=(0,1))\n",
        "scaled_data = scaler.fit_transform(dataset_scoped['Volume'].values.reshape(-1,1))\n",
        "dataset_scoped['Volume_Norm'] = scaled_data\n",
        "\n",
        "\n",
        "#Low:\n",
        "scaled_data = scaler.fit_transform(dataset_scoped['Low'].values.reshape(-1,1))\n",
        "dataset_scoped['Low_Norm'] = scaled_data"
      ],
      "execution_count": 72,
      "outputs": []
    },
    {
      "cell_type": "code",
      "metadata": {
        "colab": {
          "base_uri": "https://localhost:8080/"
        },
        "id": "wai226aww1Ch",
        "outputId": "ba563d91-b8a2-4b14-82fb-b283aca067f9"
      },
      "source": [
        "dataset_scoped.describe"
      ],
      "execution_count": 75,
      "outputs": [
        {
          "output_type": "execute_result",
          "data": {
            "text/plain": [
              "<bound method NDFrame.describe of                  Date        Open  ...  Volume_Norm  Low_Norm\n",
              "Date                               ...                       \n",
              "2000-01-03 2000-01-03   23.567775  ...     0.041356  0.070843\n",
              "2000-01-04 2000-01-04   23.198957  ...     0.037821  0.069338\n",
              "2000-01-05 2000-01-05   22.903892  ...     0.049622  0.070509\n",
              "2000-01-06 2000-01-06   23.088316  ...     0.044714  0.070174\n",
              "2000-01-07 2000-01-07   23.014554  ...     0.048379  0.070676\n",
              "...               ...         ...  ...          ...       ...\n",
              "2021-01-11 2021-01-11  215.089996  ...     0.018400  0.933422\n",
              "2021-01-12 2021-01-12  213.690002  ...     0.023121  0.923533\n",
              "2021-01-13 2021-01-13  210.910004  ...     0.012865  0.923351\n",
              "2021-01-14 2021-01-14  212.100006  ...     0.031429  0.910195\n",
              "2021-01-15 2021-01-15  207.970001  ...     0.030571  0.907564\n",
              "\n",
              "[5294 rows x 21 columns]>"
            ]
          },
          "metadata": {
            "tags": []
          },
          "execution_count": 75
        }
      ]
    },
    {
      "cell_type": "code",
      "metadata": {
        "colab": {
          "base_uri": "https://localhost:8080/",
          "height": 507
        },
        "id": "exbHWmlPd37A",
        "outputId": "b12aacb9-a8ec-425a-be29-a93d090bb681"
      },
      "source": [
        "#Plot the price change compared to volume for the observation period \n",
        "\n",
        "fig, ax1 = plt.subplots()\n",
        "\n",
        "color = 'tab:black'\n",
        "ax1.set_xlabel('Date')\n",
        "ax1.set_ylabel('Price(Low, Normalized)')\n",
        "ax1.plot(dataset_scoped['Low_Norm'], color = 'black')\n",
        "ax1.tick_params(axis='y')\n",
        "\n",
        "ax2 = ax1.twinx() \n",
        "\n",
        "color = 'tab:blue'\n",
        "ax2.set_ylabel('Volume (Normalized)') \n",
        "ax2.plot(dataset_scoped['Volume_Norm'], alpha = 0.5)\n",
        "ax2.tick_params(axis='y')\n",
        "\n",
        "#Determine the positive dates\n",
        "\n",
        "positive_dates = dataset_scoped[(dataset_scoped['CheckAnyFw10d'] == 1)][\"Date\"]\n",
        "\n",
        "\n",
        "#Mark the all the dates where a 10% increase is observed in the following 10 days\n",
        "\n",
        "for x in positive_dates:\n",
        "  exec('plt.axvline(pd.to_datetime(\"'  + str(x) + '\"), color=\\'red\\', linestyle = \\'--\\', lw = 1, alpha = 0.25)')\n",
        "  ;\n",
        "\n",
        "plt.rcParams[\"figure.figsize\"] = (10, 5)\n",
        "plt.rcParams['figure.dpi'] = 100\n",
        "\n",
        "plt.title('Change of price and volume over time in comparison with the positive dates')\n",
        "plt.tight_layout()\n",
        "plt.show()"
      ],
      "execution_count": 82,
      "outputs": [
        {
          "output_type": "display_data",
          "data": {
            "image/png": "[encoded data removed]",
            "text/plain": [
              "<Figure size 1000x500 with 2 Axes>"
            ]
          },
          "metadata": {
            "tags": [],
            "needs_background": "light"
          }
        }
      ]
    },
    {
      "cell_type": "code",
      "metadata": {
        "colab": {
          "base_uri": "https://localhost:8080/",
          "height": 464
        },
        "id": "BjJQj6wd4dLe",
        "outputId": "11f437e1-acf9-4d99-f940-68a0daa6e962"
      },
      "source": [
        "#Look for seasonality patterns\n",
        "\n",
        "f, axarr = plt.subplots(nrows = 1, ncols = 2, figsize = (10, 8))\n",
        "\n",
        "##Months\n",
        "\n",
        "positive_months = positive_dates.dt.month\n",
        "\n",
        "plt.subplot(2, 2, 1)\n",
        "plt.hist(positive_months, bins='auto', color='#0504aa',\n",
        "                            alpha=0.7, rwidth=0.85)\n",
        "plt.xlabel('Occurence month')\n",
        "plt.ylabel('Frequency of Positives')\n",
        "plt.title('Positive dates occurence months')\n",
        "\n",
        "##Days\n",
        "\n",
        "positive_days = positive_dates.dt.day\n",
        "\n",
        "plt.subplot(2, 2, 2)\n",
        "plt.hist(positive_days, bins='auto', color='#0504aa',\n",
        "                            alpha=0.7, rwidth=0.85)\n",
        "plt.xlabel('Occurrence day of the month')\n",
        "#plt.ylabel('Frequency of Positives')\n",
        "plt.title('Positive dates occurrence days of the month')\n",
        "\n",
        "plt.rcParams['figure.dpi'] = 100\n",
        "plt.rcParams[\"figure.figsize\"] = (10, 5)\n",
        "\n",
        "plt.tight_layout()\n",
        "plt.show"
      ],
      "execution_count": 83,
      "outputs": [
        {
          "output_type": "execute_result",
          "data": {
            "text/plain": [
              "<function matplotlib.pyplot.show>"
            ]
          },
          "metadata": {
            "tags": []
          },
          "execution_count": 83
        },
        {
          "output_type": "display_data",
          "data": {
            "image/png": "[encoded data removed]",
            "text/plain": [
              "<Figure size 1000x800 with 2 Axes>"
            ]
          },
          "metadata": {
            "tags": [],
            "needs_background": "light"
          }
        }
      ]
    },
    {
      "cell_type": "code",
      "metadata": {
        "id": "Wy0dY6tsGcEW",
        "colab": {
          "base_uri": "https://localhost:8080/"
        },
        "outputId": "d5c5c49f-8886-4ba6-ff23-6a86c214887d"
      },
      "source": [
        "#Define a control variable to indicate the first half of the year\n",
        "\n",
        "dataset_scoped['YearFirstHalf'] = np.where(dataset_scoped['Date'].dt.month <= 6, 1, 0)\n",
        "dataset_scoped['YearFirstHalf'].tail(10)"
      ],
      "execution_count": 84,
      "outputs": [
        {
          "output_type": "execute_result",
          "data": {
            "text/plain": [
              "Date\n",
              "2021-01-04    1\n",
              "2021-01-05    1\n",
              "2021-01-06    1\n",
              "2021-01-07    1\n",
              "2021-01-08    1\n",
              "2021-01-11    1\n",
              "2021-01-12    1\n",
              "2021-01-13    1\n",
              "2021-01-14    1\n",
              "2021-01-15    1\n",
              "Name: YearFirstHalf, dtype: int64"
            ]
          },
          "metadata": {
            "tags": []
          },
          "execution_count": 84
        }
      ]
    },
    {
      "cell_type": "markdown",
      "metadata": {
        "id": "yaMC2kEODiGc"
      },
      "source": [
        "No observable pattern exists in the distribution of positive dates over the days of the month. We observe, on the other hand, that it is more likely to have a positive dates in the first half of the year. \n",
        "However, in our preliminary analysis, the 'YearFirstHalf' variable performed poorly in predicting the positive cases. Hence we exclude it in our end model."
      ]
    },
    {
      "cell_type": "code",
      "metadata": {
        "id": "j_qzNEYYDPFJ"
      },
      "source": [
        "#Create a past 10 days indicator\n",
        "\n",
        "x = 1 \n",
        "\n",
        "while x <= 10:\n",
        "  exec('dataset_scoped[\"CheckPast' + str(x) + 'd\"] = np.where((dataset_scoped.Close / dataset_scoped.Close.shift(' + str(x) + ')) <= 0.9, 1, 0)')\n",
        "  x = x + 1\n",
        "  ;\n",
        "\n",
        "dataset_scoped[\"CheckAnyPast10d\"] = np.where(dataset_scoped.filter(like='CheckPast').sum(axis = 1, skipna = True) > 0, 1, 0) "
      ],
      "execution_count": 85,
      "outputs": []
    },
    {
      "cell_type": "code",
      "metadata": {
        "colab": {
          "base_uri": "https://localhost:8080/",
          "height": 565
        },
        "id": "e8kYNB7rDXyy",
        "outputId": "4e7c5ca5-ef8a-415d-d8af-937f537bb694"
      },
      "source": [
        "comparison_matrix = metrics.confusion_matrix(dataset_scoped[\"CheckAnyPast10d\"], dataset_scoped[\"CheckAnyFw10d\"])\n",
        "\n",
        "class_names=[0,1] # name  of classes\n",
        "fig, ax = plt.subplots()\n",
        "tick_marks = np.arange(len(class_names))\n",
        "plt.xticks(tick_marks, class_names)\n",
        "plt.yticks(tick_marks, class_names)\n",
        "# create heatmap\n",
        "sns.heatmap(pd.DataFrame(comparison_matrix), annot=True, cmap='rocket_r' ,fmt='g')\n",
        "ax.xaxis.set_label_position(\"bottom\")\n",
        "plt.tight_layout()\n",
        "plt.title('Past Performance and Future Prediction', y=1.1)\n",
        "plt.ylabel('Past10d')\n",
        "plt.xlabel('Fw10d')\n",
        "\n",
        "plt.rcParams['figure.dpi'] = 70\n",
        "plt.rcParams[\"figure.figsize\"] = (10, 7)\n",
        "plt.show"
      ],
      "execution_count": 86,
      "outputs": [
        {
          "output_type": "execute_result",
          "data": {
            "text/plain": [
              "<function matplotlib.pyplot.show>"
            ]
          },
          "metadata": {
            "tags": []
          },
          "execution_count": 86
        },
        {
          "output_type": "display_data",
          "data": {
            "image/png": "[encoded data removed]",
            "text/plain": [
              "<Figure size 1000x500 with 2 Axes>"
            ]
          },
          "metadata": {
            "tags": [],
            "needs_background": "light"
          }
        }
      ]
    },
    {
      "cell_type": "code",
      "metadata": {
        "id": "_55h4hMjq3CH"
      },
      "source": [
        "#Sythetic binary variables (created on the original dataset to avoid NaN values at the min_date)\n",
        "\n",
        "dataset_for_label['ClosePrevDay'] = dataset_for_label.Close.shift(1)\n",
        "dataset_for_label['VolumePrevDay'] = dataset_for_label.Volume.shift(1)\n",
        "\n",
        "#Insert the columns to the scoped dataset\n",
        "dataset_scoped['ClosePrevDay'] = dataset_for_label[dataset_for_label['Date'] >= min_date]['ClosePrevDay']\n",
        "dataset_scoped['VolumePrevDay'] = dataset_for_label[dataset_for_label['Date'] >= min_date]['VolumePrevDay']"
      ],
      "execution_count": 87,
      "outputs": []
    },
    {
      "cell_type": "code",
      "metadata": {
        "id": "XIjUddPdue4l"
      },
      "source": [
        "#Create a past 10 days indicator for NYSE\n",
        "\n",
        "x = 1\n",
        "\n",
        "while x <= 10:\n",
        "  exec('NYSE_Dataset[\"CheckPast' + str(x) + 'd\"] = np.where((NYSE_Dataset.Close / NYSE_Dataset.Close.shift(' + str(x) + ')) <= 0.9, 1, 0)')\n",
        "  x = x + 1\n",
        ";\n",
        "\n",
        "NYSE_Dataset['CheckAnyPast10d'] = np.where(NYSE_Dataset.filter(like='CheckPast').sum(axis = 1, skipna = True) > 0, 1, 0)"
      ],
      "execution_count": 91,
      "outputs": []
    },
    {
      "cell_type": "markdown",
      "metadata": {
        "id": "IWQUhpcGJZm2"
      },
      "source": [
        "##Merge data to be used in the models"
      ]
    },
    {
      "cell_type": "code",
      "metadata": {
        "id": "079T_b55iEYj",
        "colab": {
          "base_uri": "https://localhost:8080/",
          "height": 357
        },
        "outputId": "5e0e0903-c51c-4d7e-cf34-9ee5c4b3f434"
      },
      "source": [
        "#Join the McD dataset with NYSE_Merged dataset\n",
        "dataset_merged = dataset_scoped.join(NYSE_Dataset, how='left', rsuffix='_NYSE')\n",
        "dataset_merged.head(5)"
      ],
      "execution_count": 92,
      "outputs": [
        {
          "output_type": "execute_result",
          "data": {
            "text/html": [
              "<div>\n",
              "<style scoped>\n",
              "    .dataframe tbody tr th:only-of-type {\n",
              "        vertical-align: middle;\n",
              "    }\n",
              "\n",
              "    .dataframe tbody tr th {\n",
              "        vertical-align: top;\n",
              "    }\n",
              "\n",
              "    .dataframe thead th {\n",
              "        text-align: right;\n",
              "    }\n",
              "</style>\n",
              "<table border=\"1\" class=\"dataframe\">\n",
              "  <thead>\n",
              "    <tr style=\"text-align: right;\">\n",
              "      <th></th>\n",
              "      <th>Date</th>\n",
              "      <th>Open</th>\n",
              "      <th>High</th>\n",
              "      <th>Low</th>\n",
              "      <th>Close</th>\n",
              "      <th>Volume</th>\n",
              "      <th>Dividends</th>\n",
              "      <th>Stock Splits</th>\n",
              "      <th>CheckFw1d</th>\n",
              "      <th>CheckFw2d</th>\n",
              "      <th>CheckFw3d</th>\n",
              "      <th>CheckFw4d</th>\n",
              "      <th>CheckFw5d</th>\n",
              "      <th>CheckFw6d</th>\n",
              "      <th>CheckFw7d</th>\n",
              "      <th>CheckFw8d</th>\n",
              "      <th>CheckFw9d</th>\n",
              "      <th>CheckFw10d</th>\n",
              "      <th>CheckAnyFw10d</th>\n",
              "      <th>Volume_Norm</th>\n",
              "      <th>Low_Norm</th>\n",
              "      <th>YearFirstHalf</th>\n",
              "      <th>CheckPast1d</th>\n",
              "      <th>CheckPast2d</th>\n",
              "      <th>CheckPast3d</th>\n",
              "      <th>CheckPast4d</th>\n",
              "      <th>CheckPast5d</th>\n",
              "      <th>CheckPast6d</th>\n",
              "      <th>CheckPast7d</th>\n",
              "      <th>CheckPast8d</th>\n",
              "      <th>CheckPast9d</th>\n",
              "      <th>CheckPast10d</th>\n",
              "      <th>CheckAnyPast10d</th>\n",
              "      <th>ClosePrevDay</th>\n",
              "      <th>VolumePrevDay</th>\n",
              "      <th>Date_NYSE</th>\n",
              "      <th>Open_NYSE</th>\n",
              "      <th>High_NYSE</th>\n",
              "      <th>Low_NYSE</th>\n",
              "      <th>Close_NYSE</th>\n",
              "      <th>Volume_NYSE</th>\n",
              "      <th>Dividends_NYSE</th>\n",
              "      <th>Stock Splits_NYSE</th>\n",
              "      <th>CheckPast1d_NYSE</th>\n",
              "      <th>CheckPast2d_NYSE</th>\n",
              "      <th>CheckPast3d_NYSE</th>\n",
              "      <th>CheckPast4d_NYSE</th>\n",
              "      <th>CheckPast5d_NYSE</th>\n",
              "      <th>CheckPast6d_NYSE</th>\n",
              "      <th>CheckPast7d_NYSE</th>\n",
              "      <th>CheckPast8d_NYSE</th>\n",
              "      <th>CheckPast9d_NYSE</th>\n",
              "      <th>CheckPast10d_NYSE</th>\n",
              "      <th>CheckAnyPast10d_NYSE</th>\n",
              "    </tr>\n",
              "    <tr>\n",
              "      <th>Date</th>\n",
              "      <th></th>\n",
              "      <th></th>\n",
              "      <th></th>\n",
              "      <th></th>\n",
              "      <th></th>\n",
              "      <th></th>\n",
              "      <th></th>\n",
              "      <th></th>\n",
              "      <th></th>\n",
              "      <th></th>\n",
              "      <th></th>\n",
              "      <th></th>\n",
              "      <th></th>\n",
              "      <th></th>\n",
              "      <th></th>\n",
              "      <th></th>\n",
              "      <th></th>\n",
              "      <th></th>\n",
              "      <th></th>\n",
              "      <th></th>\n",
              "      <th></th>\n",
              "      <th></th>\n",
              "      <th></th>\n",
              "      <th></th>\n",
              "      <th></th>\n",
              "      <th></th>\n",
              "      <th></th>\n",
              "      <th></th>\n",
              "      <th></th>\n",
              "      <th></th>\n",
              "      <th></th>\n",
              "      <th></th>\n",
              "      <th></th>\n",
              "      <th></th>\n",
              "      <th></th>\n",
              "      <th></th>\n",
              "      <th></th>\n",
              "      <th></th>\n",
              "      <th></th>\n",
              "      <th></th>\n",
              "      <th></th>\n",
              "      <th></th>\n",
              "      <th></th>\n",
              "      <th></th>\n",
              "      <th></th>\n",
              "      <th></th>\n",
              "      <th></th>\n",
              "      <th></th>\n",
              "      <th></th>\n",
              "      <th></th>\n",
              "      <th></th>\n",
              "      <th></th>\n",
              "      <th></th>\n",
              "      <th></th>\n",
              "    </tr>\n",
              "  </thead>\n",
              "  <tbody>\n",
              "    <tr>\n",
              "      <th>2000-01-03</th>\n",
              "      <td>2000-01-03</td>\n",
              "      <td>23.567775</td>\n",
              "      <td>23.641540</td>\n",
              "      <td>22.977659</td>\n",
              "      <td>23.383364</td>\n",
              "      <td>4520600</td>\n",
              "      <td>0.0</td>\n",
              "      <td>0.0</td>\n",
              "      <td>0</td>\n",
              "      <td>0</td>\n",
              "      <td>0</td>\n",
              "      <td>0</td>\n",
              "      <td>0</td>\n",
              "      <td>0</td>\n",
              "      <td>0</td>\n",
              "      <td>0</td>\n",
              "      <td>0</td>\n",
              "      <td>0</td>\n",
              "      <td>0</td>\n",
              "      <td>0.041356</td>\n",
              "      <td>0.070843</td>\n",
              "      <td>1</td>\n",
              "      <td>0</td>\n",
              "      <td>0</td>\n",
              "      <td>0</td>\n",
              "      <td>0</td>\n",
              "      <td>0</td>\n",
              "      <td>0</td>\n",
              "      <td>0</td>\n",
              "      <td>0</td>\n",
              "      <td>0</td>\n",
              "      <td>0</td>\n",
              "      <td>0</td>\n",
              "      <td>23.789074</td>\n",
              "      <td>1444400.0</td>\n",
              "      <td>2000-01-03</td>\n",
              "      <td>6762.109863</td>\n",
              "      <td>6762.109863</td>\n",
              "      <td>6762.109863</td>\n",
              "      <td>6762.109863</td>\n",
              "      <td>0</td>\n",
              "      <td>0</td>\n",
              "      <td>0</td>\n",
              "      <td>0</td>\n",
              "      <td>0</td>\n",
              "      <td>0</td>\n",
              "      <td>0</td>\n",
              "      <td>0</td>\n",
              "      <td>0</td>\n",
              "      <td>0</td>\n",
              "      <td>0</td>\n",
              "      <td>0</td>\n",
              "      <td>0</td>\n",
              "      <td>0</td>\n",
              "    </tr>\n",
              "    <tr>\n",
              "      <th>2000-01-04</th>\n",
              "      <td>2000-01-04</td>\n",
              "      <td>23.198957</td>\n",
              "      <td>23.346486</td>\n",
              "      <td>22.645722</td>\n",
              "      <td>22.903898</td>\n",
              "      <td>4216500</td>\n",
              "      <td>0.0</td>\n",
              "      <td>0.0</td>\n",
              "      <td>0</td>\n",
              "      <td>0</td>\n",
              "      <td>0</td>\n",
              "      <td>0</td>\n",
              "      <td>0</td>\n",
              "      <td>0</td>\n",
              "      <td>0</td>\n",
              "      <td>0</td>\n",
              "      <td>0</td>\n",
              "      <td>0</td>\n",
              "      <td>0</td>\n",
              "      <td>0.037821</td>\n",
              "      <td>0.069338</td>\n",
              "      <td>1</td>\n",
              "      <td>0</td>\n",
              "      <td>0</td>\n",
              "      <td>0</td>\n",
              "      <td>0</td>\n",
              "      <td>0</td>\n",
              "      <td>0</td>\n",
              "      <td>0</td>\n",
              "      <td>0</td>\n",
              "      <td>0</td>\n",
              "      <td>0</td>\n",
              "      <td>0</td>\n",
              "      <td>23.383364</td>\n",
              "      <td>4520600.0</td>\n",
              "      <td>2000-01-04</td>\n",
              "      <td>6543.759766</td>\n",
              "      <td>6543.759766</td>\n",
              "      <td>6543.759766</td>\n",
              "      <td>6543.759766</td>\n",
              "      <td>0</td>\n",
              "      <td>0</td>\n",
              "      <td>0</td>\n",
              "      <td>0</td>\n",
              "      <td>0</td>\n",
              "      <td>0</td>\n",
              "      <td>0</td>\n",
              "      <td>0</td>\n",
              "      <td>0</td>\n",
              "      <td>0</td>\n",
              "      <td>0</td>\n",
              "      <td>0</td>\n",
              "      <td>0</td>\n",
              "      <td>0</td>\n",
              "    </tr>\n",
              "    <tr>\n",
              "      <th>2000-01-05</th>\n",
              "      <td>2000-01-05</td>\n",
              "      <td>22.903892</td>\n",
              "      <td>23.825949</td>\n",
              "      <td>22.903892</td>\n",
              "      <td>23.272715</td>\n",
              "      <td>5231600</td>\n",
              "      <td>0.0</td>\n",
              "      <td>0.0</td>\n",
              "      <td>0</td>\n",
              "      <td>0</td>\n",
              "      <td>0</td>\n",
              "      <td>0</td>\n",
              "      <td>0</td>\n",
              "      <td>0</td>\n",
              "      <td>0</td>\n",
              "      <td>0</td>\n",
              "      <td>0</td>\n",
              "      <td>0</td>\n",
              "      <td>0</td>\n",
              "      <td>0.049622</td>\n",
              "      <td>0.070509</td>\n",
              "      <td>1</td>\n",
              "      <td>0</td>\n",
              "      <td>0</td>\n",
              "      <td>0</td>\n",
              "      <td>0</td>\n",
              "      <td>0</td>\n",
              "      <td>0</td>\n",
              "      <td>0</td>\n",
              "      <td>0</td>\n",
              "      <td>0</td>\n",
              "      <td>0</td>\n",
              "      <td>0</td>\n",
              "      <td>22.903898</td>\n",
              "      <td>4216500.0</td>\n",
              "      <td>2000-01-05</td>\n",
              "      <td>6567.029785</td>\n",
              "      <td>6567.029785</td>\n",
              "      <td>6567.029785</td>\n",
              "      <td>6567.029785</td>\n",
              "      <td>0</td>\n",
              "      <td>0</td>\n",
              "      <td>0</td>\n",
              "      <td>0</td>\n",
              "      <td>0</td>\n",
              "      <td>0</td>\n",
              "      <td>0</td>\n",
              "      <td>0</td>\n",
              "      <td>0</td>\n",
              "      <td>0</td>\n",
              "      <td>0</td>\n",
              "      <td>0</td>\n",
              "      <td>0</td>\n",
              "      <td>0</td>\n",
              "    </tr>\n",
              "    <tr>\n",
              "      <th>2000-01-06</th>\n",
              "      <td>2000-01-06</td>\n",
              "      <td>23.088316</td>\n",
              "      <td>23.235845</td>\n",
              "      <td>22.830139</td>\n",
              "      <td>22.940786</td>\n",
              "      <td>4809400</td>\n",
              "      <td>0.0</td>\n",
              "      <td>0.0</td>\n",
              "      <td>0</td>\n",
              "      <td>0</td>\n",
              "      <td>0</td>\n",
              "      <td>0</td>\n",
              "      <td>0</td>\n",
              "      <td>0</td>\n",
              "      <td>0</td>\n",
              "      <td>0</td>\n",
              "      <td>0</td>\n",
              "      <td>0</td>\n",
              "      <td>0</td>\n",
              "      <td>0.044714</td>\n",
              "      <td>0.070174</td>\n",
              "      <td>1</td>\n",
              "      <td>0</td>\n",
              "      <td>0</td>\n",
              "      <td>0</td>\n",
              "      <td>0</td>\n",
              "      <td>0</td>\n",
              "      <td>0</td>\n",
              "      <td>0</td>\n",
              "      <td>0</td>\n",
              "      <td>0</td>\n",
              "      <td>0</td>\n",
              "      <td>0</td>\n",
              "      <td>23.272715</td>\n",
              "      <td>5231600.0</td>\n",
              "      <td>2000-01-06</td>\n",
              "      <td>6635.439941</td>\n",
              "      <td>6635.439941</td>\n",
              "      <td>6635.439941</td>\n",
              "      <td>6635.439941</td>\n",
              "      <td>0</td>\n",
              "      <td>0</td>\n",
              "      <td>0</td>\n",
              "      <td>0</td>\n",
              "      <td>0</td>\n",
              "      <td>0</td>\n",
              "      <td>0</td>\n",
              "      <td>0</td>\n",
              "      <td>0</td>\n",
              "      <td>0</td>\n",
              "      <td>0</td>\n",
              "      <td>0</td>\n",
              "      <td>0</td>\n",
              "      <td>0</td>\n",
              "    </tr>\n",
              "    <tr>\n",
              "      <th>2000-01-07</th>\n",
              "      <td>2000-01-07</td>\n",
              "      <td>23.014554</td>\n",
              "      <td>23.604671</td>\n",
              "      <td>22.940790</td>\n",
              "      <td>23.530907</td>\n",
              "      <td>5124700</td>\n",
              "      <td>0.0</td>\n",
              "      <td>0.0</td>\n",
              "      <td>0</td>\n",
              "      <td>0</td>\n",
              "      <td>0</td>\n",
              "      <td>0</td>\n",
              "      <td>0</td>\n",
              "      <td>0</td>\n",
              "      <td>0</td>\n",
              "      <td>0</td>\n",
              "      <td>0</td>\n",
              "      <td>0</td>\n",
              "      <td>0</td>\n",
              "      <td>0.048379</td>\n",
              "      <td>0.070676</td>\n",
              "      <td>1</td>\n",
              "      <td>0</td>\n",
              "      <td>0</td>\n",
              "      <td>0</td>\n",
              "      <td>0</td>\n",
              "      <td>0</td>\n",
              "      <td>0</td>\n",
              "      <td>0</td>\n",
              "      <td>0</td>\n",
              "      <td>0</td>\n",
              "      <td>0</td>\n",
              "      <td>0</td>\n",
              "      <td>22.940786</td>\n",
              "      <td>4809400.0</td>\n",
              "      <td>2000-01-07</td>\n",
              "      <td>6792.669922</td>\n",
              "      <td>6792.669922</td>\n",
              "      <td>6792.669922</td>\n",
              "      <td>6792.669922</td>\n",
              "      <td>0</td>\n",
              "      <td>0</td>\n",
              "      <td>0</td>\n",
              "      <td>0</td>\n",
              "      <td>0</td>\n",
              "      <td>0</td>\n",
              "      <td>0</td>\n",
              "      <td>0</td>\n",
              "      <td>0</td>\n",
              "      <td>0</td>\n",
              "      <td>0</td>\n",
              "      <td>0</td>\n",
              "      <td>0</td>\n",
              "      <td>0</td>\n",
              "    </tr>\n",
              "  </tbody>\n",
              "</table>\n",
              "</div>"
            ],
            "text/plain": [
              "                 Date       Open  ...  CheckPast10d_NYSE  CheckAnyPast10d_NYSE\n",
              "Date                              ...                                         \n",
              "2000-01-03 2000-01-03  23.567775  ...                  0                     0\n",
              "2000-01-04 2000-01-04  23.198957  ...                  0                     0\n",
              "2000-01-05 2000-01-05  22.903892  ...                  0                     0\n",
              "2000-01-06 2000-01-06  23.088316  ...                  0                     0\n",
              "2000-01-07 2000-01-07  23.014554  ...                  0                     0\n",
              "\n",
              "[5 rows x 54 columns]"
            ]
          },
          "metadata": {
            "tags": []
          },
          "execution_count": 92
        }
      ]
    },
    {
      "cell_type": "markdown",
      "metadata": {
        "id": "k5nY4J53qv0c"
      },
      "source": [
        "## Build the predictive model"
      ]
    },
    {
      "cell_type": "code",
      "metadata": {
        "id": "lw0JnVinrGkR"
      },
      "source": [
        "#Define train and test sets\n",
        "\n",
        "Today        = dataset_merged.index.max()\n",
        "Input_vars   = ['CheckAnyPast10d', 'ClosePrevDay', 'Open', 'CheckAnyPast10d_NYSE'] \n",
        "target       = 'CheckAnyFw10d'\n",
        "x            = dataset_merged[(dataset_merged[\"Date\"] < Today)][Input_vars] #Exclude today from the training set\n",
        "y            = dataset_merged[(dataset_merged[\"Date\"] < Today)]['CheckAnyFw10d']\n",
        "x_validation = dataset_merged[(dataset_merged[\"Date\"] == Today)][Input_vars] #Define today at the validation set\n",
        "\n",
        "#Train-test split\n",
        "x_train, x_test, y_train, y_test = train_test_split(x, y, test_size=0.1, random_state=42)"
      ],
      "execution_count": 93,
      "outputs": []
    },
    {
      "cell_type": "markdown",
      "metadata": {
        "id": "IAhOaWYz12zQ"
      },
      "source": [
        "###Support Vector Machine"
      ]
    },
    {
      "cell_type": "code",
      "metadata": {
        "id": "_-p038OMpjSG"
      },
      "source": [
        "#Predict using SVM\n",
        "\n",
        "#Train model\n",
        "\n",
        "SVM = SVC(kernel='rbf',\n",
        "            class_weight='balanced', #adjust weights inversely proportional to class frequency\n",
        "            random_state=42,\n",
        "            probability=True)\n",
        " \n",
        "SVM.fit(x_train, y_train)\n",
        "\n",
        "#Predict on testing set\n",
        "\n",
        "y_pred_svm = SVM.predict(x_test)"
      ],
      "execution_count": 94,
      "outputs": []
    },
    {
      "cell_type": "markdown",
      "metadata": {
        "id": "bfGWNPK21yPU"
      },
      "source": [
        "#### Performance Evaluation"
      ]
    },
    {
      "cell_type": "code",
      "metadata": {
        "id": "3QYEGz4arle_",
        "colab": {
          "base_uri": "https://localhost:8080/",
          "height": 546
        },
        "outputId": "8e71a13c-6c48-46c2-9ff2-9b75a3f77461"
      },
      "source": [
        "#Confusion matrix\n",
        "\n",
        "cnf_matrix = metrics.confusion_matrix(y_test, y_pred_svm)\n",
        "\n",
        "class_names=[0,1] # name  of classes\n",
        "fig, ax = plt.subplots()\n",
        "tick_marks = np.arange(len(class_names))\n",
        "plt.xticks(tick_marks, class_names)\n",
        "plt.yticks(tick_marks, class_names)\n",
        "\n",
        "#Create heatmap\n",
        "\n",
        "sns.heatmap(pd.DataFrame(cnf_matrix), annot=True, cmap='crest', fmt='g')\n",
        "ax.xaxis.set_label_position(\"bottom\")\n",
        "plt.tight_layout()\n",
        "plt.title('Confusion matrix', y=1.1)\n",
        "plt.ylabel('Actual')\n",
        "plt.xlabel('Predicted')\n",
        "\n",
        "plt.rcParams['figure.dpi'] = 80\n",
        "plt.rcParams[\"figure.figsize\"] = (10, 7)\n",
        "plt.show"
      ],
      "execution_count": 95,
      "outputs": [
        {
          "output_type": "execute_result",
          "data": {
            "text/plain": [
              "<function matplotlib.pyplot.show>"
            ]
          },
          "metadata": {
            "tags": []
          },
          "execution_count": 95
        },
        {
          "output_type": "display_data",
          "data": {
            "image/png": "[encoded data removed]",
            "text/plain": [
              "<Figure size 700x490 with 2 Axes>"
            ]
          },
          "metadata": {
            "tags": [],
            "needs_background": "light"
          }
        }
      ]
    },
    {
      "cell_type": "code",
      "metadata": {
        "id": "R_K3kx0_uY8b",
        "colab": {
          "base_uri": "https://localhost:8080/",
          "height": 504
        },
        "outputId": "27fba983-2b9f-4d07-b855-c4b51e733c3a"
      },
      "source": [
        "fpr, tpr, _ = metrics.roc_curve(y_test,  y_pred_svm)\n",
        "auc_svm = metrics.roc_auc_score(y_test, y_pred_svm)\n",
        "plt.plot(fpr,tpr,label=\"data 1, auc=\"+str(auc_svm))\n",
        "plt.legend(loc=4)\n",
        "plt.title('ROC Curve')\n",
        "plt.ylabel('True Positive Rate')\n",
        "plt.xlabel('False Positive Rate')\n",
        "plt.show()"
      ],
      "execution_count": 97,
      "outputs": [
        {
          "output_type": "display_data",
          "data": {
            "image/png": "[encoded data removed]",
            "text/plain": [
              "<Figure size 800x560 with 1 Axes>"
            ]
          },
          "metadata": {
            "tags": [],
            "needs_background": "light"
          }
        }
      ]
    },
    {
      "cell_type": "code",
      "metadata": {
        "id": "hf-SRNIh-3Sw",
        "colab": {
          "base_uri": "https://localhost:8080/",
          "height": 231
        },
        "outputId": "22cb97e9-9c99-4a6c-9d0e-496eb5c535c3"
      },
      "source": [
        "#SVM Evaluation metrics\n",
        "\n",
        "#RMSE\n",
        "rmse_svm = metrics.RMSE(y_test, y_pred_svm)\n",
        "\n",
        "#AUC\n",
        "auc_svm\n",
        "\n",
        "#Accuracy\n",
        "Accuracy_svm = metrics.accuracy_score(y_test, y_pred_svm)\n",
        "\n",
        "#Precision\n",
        "Precision_svm = metrics.precision_score(y_test, y_pred_svm)\n",
        "\n",
        "#Recall\n",
        "Recall_svm = metrics.recall_score(y_test, y_pred_svm)\n",
        "\n",
        "#F-measure\n",
        "F1_score_svm = metrics.f1_score(y_test, y_pred_svm)\n",
        "\n",
        "#MCC\n",
        "MCC_svm = metrics.matthews_corrcoef(y_test, y_pred_svm)"
      ],
      "execution_count": 99,
      "outputs": [
        {
          "output_type": "error",
          "ename": "AttributeError",
          "evalue": "ignored",
          "traceback": [
            "\u001b[0;31m---------------------------------------------------------------------------\u001b[0m",
            "\u001b[0;31mAttributeError\u001b[0m                            Traceback (most recent call last)",
            "\u001b[0;32m<ipython-input-99-bd9e42a43d50>\u001b[0m in \u001b[0;36m<module>\u001b[0;34m()\u001b[0m\n\u001b[1;32m      2\u001b[0m \u001b[0;34m\u001b[0m\u001b[0m\n\u001b[1;32m      3\u001b[0m \u001b[0;31m#RMSE\u001b[0m\u001b[0;34m\u001b[0m\u001b[0;34m\u001b[0m\u001b[0;34m\u001b[0m\u001b[0m\n\u001b[0;32m----> 4\u001b[0;31m \u001b[0mrmse_svm\u001b[0m \u001b[0;34m=\u001b[0m \u001b[0mmetrics\u001b[0m\u001b[0;34m.\u001b[0m\u001b[0mRMSE\u001b[0m\u001b[0;34m(\u001b[0m\u001b[0my_test\u001b[0m\u001b[0;34m,\u001b[0m \u001b[0my_pred_svm\u001b[0m\u001b[0;34m)\u001b[0m\u001b[0;34m\u001b[0m\u001b[0;34m\u001b[0m\u001b[0m\n\u001b[0m\u001b[1;32m      5\u001b[0m \u001b[0;34m\u001b[0m\u001b[0m\n\u001b[1;32m      6\u001b[0m \u001b[0;31m#AUC\u001b[0m\u001b[0;34m\u001b[0m\u001b[0;34m\u001b[0m\u001b[0;34m\u001b[0m\u001b[0m\n",
            "\u001b[0;31mAttributeError\u001b[0m: module 'sklearn.metrics' has no attribute 'RMSE'"
          ]
        }
      ]
    },
    {
      "cell_type": "markdown",
      "metadata": {
        "id": "tUnKrvuwT2Ew"
      },
      "source": [
        "### Decision Tree Model"
      ]
    },
    {
      "cell_type": "code",
      "metadata": {
        "id": "heKX-v4AT7Ij"
      },
      "source": [
        "#Build the model\n",
        "\n",
        "DT = DecisionTreeClassifier(class_weight = None, criterion='gini', \n",
        "min_impurity_split=1e-07, min_samples_leaf=1,\n",
        "min_samples_split=2, min_weight_fraction_leaf=0.0,\n",
        "presort=False, random_state=None, splitter='best')\n",
        "\n",
        "DT.fit(x_train, y_train)\n",
        "\n",
        "y_pred_dt = DT.predict(x_test)"
      ],
      "execution_count": null,
      "outputs": []
    },
    {
      "cell_type": "markdown",
      "metadata": {
        "id": "LycxcXiEJs_M"
      },
      "source": [
        "#### Performance Evaluation"
      ]
    },
    {
      "cell_type": "code",
      "metadata": {
        "id": "-tEH4EKZF32_"
      },
      "source": [
        "#Confusion matrix\n",
        "\n",
        "cnf_matrix = metrics.confusion_matrix(y_test, y_pred_dt)\n",
        "\n",
        "class_names=[0,1] # name  of classes\n",
        "fig, ax = plt.subplots()\n",
        "tick_marks = np.arange(len(class_names))\n",
        "plt.xticks(tick_marks, class_names)\n",
        "plt.yticks(tick_marks, class_names)\n",
        "\n",
        "#Create heatmap\n",
        "\n",
        "sns.heatmap(pd.DataFrame(cnf_matrix), annot=True, cmap='crest', fmt='g')\n",
        "ax.xaxis.set_label_position(\"bottom\")\n",
        "plt.tight_layout()\n",
        "plt.title('Confusion matrix', y=1.1)\n",
        "plt.ylabel('Actual')\n",
        "plt.xlabel('Predicted')\n",
        "\n",
        "plt.rcParams['figure.dpi'] = 80\n",
        "plt.rcParams[\"figure.figsize\"] = (10, 7)\n",
        "plt.show"
      ],
      "execution_count": null,
      "outputs": []
    },
    {
      "cell_type": "code",
      "metadata": {
        "id": "KJXiSD9-UDSz"
      },
      "source": [
        "fpr, tpr, _ = metrics.roc_curve(y_test,  y_pred_dt)\n",
        "auc_dt = metrics.roc_auc_score(y_test, y_pred_dt)\n",
        "plt.plot(fpr,tpr,label=\"data 1, auc=\"+str(auc_dt))\n",
        "plt.legend(loc=4)\n",
        "plt.title('ROC Curve')\n",
        "plt.ylabel('True Positive Rate')\n",
        "plt.xlabel('False Positive Rate')\n",
        "plt.show()"
      ],
      "execution_count": null,
      "outputs": []
    },
    {
      "cell_type": "code",
      "metadata": {
        "id": "PUXRThj-fRz8"
      },
      "source": [
        "#DT Evaluation metrics\n",
        "\n",
        "#AUC\n",
        "auc_dt\n",
        "\n",
        "#Accuracy\n",
        "Accuracy_dt = metrics.accuracy_score(y_test, y_pred_dt) #, normalize=False)\n",
        "\n",
        "#Precision\n",
        "Precision_dt = metrics.precision_score(y_test, y_pred_dt)\n",
        "\n",
        "#Recall\n",
        "Recall_dt = metrics.recall_score(y_test, y_pred_dt)\n",
        "\n",
        "#F-measure\n",
        "F1_score_dt = metrics.f1_score(y_test, y_pred_dt)\n",
        "\n",
        "#MCC\n",
        "MCC_dt = metrics.matthews_corrcoef(y_test, y_pred_dt)"
      ],
      "execution_count": null,
      "outputs": []
    },
    {
      "cell_type": "markdown",
      "metadata": {
        "id": "VNub4nanl41v"
      },
      "source": [
        "## Artificial Neural Network Model\n",
        "\n"
      ]
    },
    {
      "cell_type": "code",
      "metadata": {
        "id": "YXQeFzkFUfn5"
      },
      "source": [
        "#Build the model\n",
        "\n",
        "ANN = MLPClassifier(solver='sgd', alpha=1e-5,\n",
        "                    hidden_layer_sizes=(5, 2), random_state=42)\n",
        "\n",
        "ANN.fit(x_train, y_train)\n",
        "\n",
        "y_pred_ann = ANN.predict(x_test)\n"
      ],
      "execution_count": null,
      "outputs": []
    },
    {
      "cell_type": "markdown",
      "metadata": {
        "id": "rEH6WZsFJu8M"
      },
      "source": [
        "#### Performance Evaluation"
      ]
    },
    {
      "cell_type": "code",
      "metadata": {
        "id": "TAe7qXiXmk8g"
      },
      "source": [
        "#Confusion matrix\n",
        "\n",
        "cnf_matrix = metrics.confusion_matrix(y_test, y_pred_ann)\n",
        "\n",
        "class_names=[0,1] # name  of classes\n",
        "fig, ax = plt.subplots()\n",
        "tick_marks = np.arange(len(class_names))\n",
        "plt.xticks(tick_marks, class_names)\n",
        "plt.yticks(tick_marks, class_names)\n",
        "\n",
        "#Create heatmap\n",
        "sns.heatmap(pd.DataFrame(cnf_matrix), annot=True, cmap='crest', fmt='g')\n",
        "ax.xaxis.set_label_position(\"bottom\")\n",
        "plt.tight_layout()\n",
        "plt.title('Confusion matrix', y=1.1)\n",
        "plt.ylabel('Actual')\n",
        "plt.xlabel('Predicted')\n",
        "\n",
        "plt.rcParams['figure.dpi'] = 80\n",
        "plt.rcParams[\"figure.figsize\"] = (10, 7)\n",
        "plt.show"
      ],
      "execution_count": null,
      "outputs": []
    },
    {
      "cell_type": "code",
      "metadata": {
        "id": "1OF9NSk_nDyN"
      },
      "source": [
        "fpr, tpr, _ = metrics.roc_curve(y_test,  y_pred_ann)\n",
        "auc_ann = metrics.roc_auc_score(y_test, y_pred_ann)\n",
        "plt.plot(fpr,tpr,label=\"data 1, auc=\"+str(auc_ann))\n",
        "plt.legend(loc=4)\n",
        "plt.title('ROC Curve')\n",
        "plt.ylabel('True Positive Rate')\n",
        "plt.xlabel('False Positive Rate')\n",
        "plt.show()"
      ],
      "execution_count": null,
      "outputs": []
    },
    {
      "cell_type": "code",
      "metadata": {
        "id": "z6hnBCd-fT3B"
      },
      "source": [
        "#ANN Evaluation metrics\n",
        "\n",
        "#RMSE\n",
        "rmse\n",
        "\n",
        "#AUC\n",
        "auc_ann\n",
        "\n",
        "#Accuracy\n",
        "Accuracy_ann = metrics.accuracy_score(y_test, y_pred_ann)\n",
        "\n",
        "#Precision\n",
        "Precision_ann = metrics.precision_score(y_test, y_pred_ann)\n",
        "\n",
        "#Recall\n",
        "Recall_ann = metrics.recall_score(y_test, y_pred_ann)\n",
        "\n",
        "#F-measure\n",
        "F1_score_ann = metrics.f1_score(y_test, y_pred_ann)\n",
        "\n",
        "#MCC\n",
        "MCC_ann = metrics.matthews_corrcoef(y_test, y_pred_ann)"
      ],
      "execution_count": null,
      "outputs": []
    },
    {
      "cell_type": "code",
      "metadata": {
        "id": "8u1jv6Uef-E8"
      },
      "source": [
        "#Performance evaluation of the three models\n",
        "\n",
        "print(tabulate([['SVM', auc_svm, Accuracy_svm, Precision_svm, Recall_svm, F1_score_svm, MCC_svm],\n",
        "                ['DT', auc_dt, Accuracy_dt, Precision_dt, Recall_dt, F1_score_dt, MCC_dt],\n",
        "                ['ANN', auc_ann, Accuracy_ann, Precision_ann, Recall_ann, F1_score_ann, MCC_ann]],                \n",
        "               headers=['Model', 'AUC', 'Accuracy', 'Precision', 'Recall', 'F1-Score', 'MCC']))"
      ],
      "execution_count": null,
      "outputs": []
    },
    {
      "cell_type": "markdown",
      "metadata": {
        "id": "n97ozJB5J0h5"
      },
      "source": [
        "##Results"
      ]
    },
    {
      "cell_type": "markdown",
      "metadata": {
        "id": "wrWptbRqJ_8J"
      },
      "source": [
        "Out of the three models, Support Vector Machine model had the highest performance scores in predicting on the test data. This is also in line with Weng et. al (2017). Therefore we use the SVM model to answer the assignment question whether to buy the McD stock today (or in the latest day available in the dataset)."
      ]
    },
    {
      "cell_type": "code",
      "metadata": {
        "id": "zMSaDGbMuxx7"
      },
      "source": [
        "#Run the prediction for the latest date available:\n",
        "\n",
        "Buy_today = SVM.predict(x_validation)\n",
        "Result = \"Positive, buy today!\" if Buy_today == 1 else \"Negative, do not buy today!\"\n",
        "print (\"Result: \" + str(Result))"
      ],
      "execution_count": null,
      "outputs": []
    }
  ]
}