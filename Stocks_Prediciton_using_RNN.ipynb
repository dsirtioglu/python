{
  "nbformat": 4,
  "nbformat_minor": 0,
  "metadata": {
    "colab": {
      "name": "Stocks Prediciton using RNN.ipynb",
      "provenance": [],
      "collapsed_sections": [],
      "authorship_tag": "ABX9TyOhcWRzwKLkKtcjQyewvfGt",
      "include_colab_link": true
    },
    "kernelspec": {
      "name": "python3",
      "display_name": "Python 3"
    },
    "language_info": {
      "name": "python"
    }
  },
  "cells": [
    {
      "cell_type": "markdown",
      "metadata": {
        "id": "view-in-github",
        "colab_type": "text"
      },
      "source": [
        "<a href=\"https://colab.research.google.com/github/dsirtioglu/python/blob/dsirtioglu-RR/Stocks_Prediciton_using_RNN.ipynb\" target=\"_parent\"><img src=\"https://colab.research.google.com/assets/colab-badge.svg\" alt=\"Open In Colab\"/></a>"
      ]
    },
    {
      "cell_type": "code",
      "metadata": {
        "colab": {
          "base_uri": "https://localhost:8080/"
        },
        "id": "sihhK413JRJA",
        "outputId": "d09f01c3-e021-489f-e74a-1f2836c9c57b"
      },
      "source": [
        "# Predicting stock prices using Recurrent Neural Networks\n",
        "\n",
        "# Install packages and import relevant libraries\n",
        "!pip install yfinance\n",
        "!pip install yahoofinancials\n",
        "\n",
        "import numpy as np\n",
        "import pandas as pd\n",
        "import matplotlib.pyplot as plt\n",
        "import pandas_datareader as web\n",
        "import datetime as dt\n",
        "\n",
        "from sklearn.preprocessing import MinMaxScaler\n",
        "from tensorflow.keras.models import Sequential\n",
        "from tensorflow.keras.layers import Dense, Dropout, LSTM\n",
        "\n",
        "import yfinance as yf\n",
        "from yahoofinancials import YahooFinancials"
      ],
      "execution_count": 1,
      "outputs": [
        {
          "output_type": "stream",
          "text": [
            "Collecting yfinance\n",
            "  Downloading https://files.pythonhosted.org/packages/a7/ee/315752b9ef281ba83c62aa7ec2e2074f85223da6e7e74efb4d3e11c0f510/yfinance-0.1.59.tar.gz\n",
            "Requirement already satisfied: pandas>=0.24 in /usr/local/lib/python3.7/dist-packages (from yfinance) (1.1.5)\n",
            "Requirement already satisfied: numpy>=1.15 in /usr/local/lib/python3.7/dist-packages (from yfinance) (1.19.5)\n",
            "Requirement already satisfied: requests>=2.20 in /usr/local/lib/python3.7/dist-packages (from yfinance) (2.23.0)\n",
            "Requirement already satisfied: multitasking>=0.0.7 in /usr/local/lib/python3.7/dist-packages (from yfinance) (0.0.9)\n",
            "Collecting lxml>=4.5.1\n",
            "\u001b[?25l  Downloading https://files.pythonhosted.org/packages/30/c0/d0526314971fc661b083ab135747dc68446a3022686da8c16d25fcf6ef07/lxml-4.6.3-cp37-cp37m-manylinux2014_x86_64.whl (6.3MB)\n",
            "\u001b[K     |████████████████████████████████| 6.3MB 33.6MB/s \n",
            "\u001b[?25hRequirement already satisfied: python-dateutil>=2.7.3 in /usr/local/lib/python3.7/dist-packages (from pandas>=0.24->yfinance) (2.8.1)\n",
            "Requirement already satisfied: pytz>=2017.2 in /usr/local/lib/python3.7/dist-packages (from pandas>=0.24->yfinance) (2018.9)\n",
            "Requirement already satisfied: idna<3,>=2.5 in /usr/local/lib/python3.7/dist-packages (from requests>=2.20->yfinance) (2.10)\n",
            "Requirement already satisfied: urllib3!=1.25.0,!=1.25.1,<1.26,>=1.21.1 in /usr/local/lib/python3.7/dist-packages (from requests>=2.20->yfinance) (1.24.3)\n",
            "Requirement already satisfied: chardet<4,>=3.0.2 in /usr/local/lib/python3.7/dist-packages (from requests>=2.20->yfinance) (3.0.4)\n",
            "Requirement already satisfied: certifi>=2017.4.17 in /usr/local/lib/python3.7/dist-packages (from requests>=2.20->yfinance) (2020.12.5)\n",
            "Requirement already satisfied: six>=1.5 in /usr/local/lib/python3.7/dist-packages (from python-dateutil>=2.7.3->pandas>=0.24->yfinance) (1.15.0)\n",
            "Building wheels for collected packages: yfinance\n",
            "  Building wheel for yfinance (setup.py) ... \u001b[?25l\u001b[?25hdone\n",
            "  Created wheel for yfinance: filename=yfinance-0.1.59-py2.py3-none-any.whl size=23455 sha256=8076a88419ce7a565a7ca6c123de70c70456ec68591c0d41295a99ee597cbbee\n",
            "  Stored in directory: /root/.cache/pip/wheels/f8/2a/0f/4b5a86e1d52e451757eb6bc17fd899629f0925c777741b6d04\n",
            "Successfully built yfinance\n",
            "Installing collected packages: lxml, yfinance\n",
            "  Found existing installation: lxml 4.2.6\n",
            "    Uninstalling lxml-4.2.6:\n",
            "      Successfully uninstalled lxml-4.2.6\n",
            "Successfully installed lxml-4.6.3 yfinance-0.1.59\n",
            "Collecting yahoofinancials\n",
            "  Downloading https://files.pythonhosted.org/packages/97/fe/be0f6ea704137848779fc61e7d1c9a901489aaf3423cd7b6f86a350c14c6/yahoofinancials-1.6.tar.gz\n",
            "Requirement already satisfied: beautifulsoup4 in /usr/local/lib/python3.7/dist-packages (from yahoofinancials) (4.6.3)\n",
            "Requirement already satisfied: pytz in /usr/local/lib/python3.7/dist-packages (from yahoofinancials) (2018.9)\n",
            "Building wheels for collected packages: yahoofinancials\n",
            "  Building wheel for yahoofinancials (setup.py) ... \u001b[?25l\u001b[?25hdone\n",
            "  Created wheel for yahoofinancials: filename=yahoofinancials-1.6-cp37-none-any.whl size=15192 sha256=581176e74d0a020c2ac5d06f28f5bf8c26cb8592e9df9befce06712aa81dcef6\n",
            "  Stored in directory: /root/.cache/pip/wheels/d9/7e/cf/4977a8572d5247242a4b13018d1d36923024ba84236e0d28bc\n",
            "Successfully built yahoofinancials\n",
            "Installing collected packages: yahoofinancials\n",
            "Successfully installed yahoofinancials-1.6\n"
          ],
          "name": "stdout"
        }
      ]
    },
    {
      "cell_type": "code",
      "metadata": {
        "colab": {
          "base_uri": "https://localhost:8080/",
          "height": 235
        },
        "id": "faI4PcaIJgTP",
        "outputId": "a899397d-65bc-47d9-d75e-7bbfe1ddada3"
      },
      "source": [
        "# Load data\n",
        "\n",
        "company = 'FB' #Facebook\n",
        "McD = 'MCD' #McDonald's\n",
        "\n",
        "start = dt.datetime(2008,1,1)\n",
        "end = dt.datetime(2021,1,1)\n",
        "\n",
        "data = web.DataReader(McD, 'yahoo', start, end)\n",
        "data.head()"
      ],
      "execution_count": 2,
      "outputs": [
        {
          "output_type": "execute_result",
          "data": {
            "text/html": [
              "<div>\n",
              "<style scoped>\n",
              "    .dataframe tbody tr th:only-of-type {\n",
              "        vertical-align: middle;\n",
              "    }\n",
              "\n",
              "    .dataframe tbody tr th {\n",
              "        vertical-align: top;\n",
              "    }\n",
              "\n",
              "    .dataframe thead th {\n",
              "        text-align: right;\n",
              "    }\n",
              "</style>\n",
              "<table border=\"1\" class=\"dataframe\">\n",
              "  <thead>\n",
              "    <tr style=\"text-align: right;\">\n",
              "      <th></th>\n",
              "      <th>High</th>\n",
              "      <th>Low</th>\n",
              "      <th>Open</th>\n",
              "      <th>Close</th>\n",
              "      <th>Volume</th>\n",
              "      <th>Adj Close</th>\n",
              "    </tr>\n",
              "    <tr>\n",
              "      <th>Date</th>\n",
              "      <th></th>\n",
              "      <th></th>\n",
              "      <th></th>\n",
              "      <th></th>\n",
              "      <th></th>\n",
              "      <th></th>\n",
              "    </tr>\n",
              "  </thead>\n",
              "  <tbody>\n",
              "    <tr>\n",
              "      <th>2008-01-02</th>\n",
              "      <td>59.480000</td>\n",
              "      <td>57.889999</td>\n",
              "      <td>59.480000</td>\n",
              "      <td>58.099998</td>\n",
              "      <td>7858300.0</td>\n",
              "      <td>39.046745</td>\n",
              "    </tr>\n",
              "    <tr>\n",
              "      <th>2008-01-03</th>\n",
              "      <td>58.799999</td>\n",
              "      <td>57.740002</td>\n",
              "      <td>58.400002</td>\n",
              "      <td>57.930000</td>\n",
              "      <td>6514700.0</td>\n",
              "      <td>38.932507</td>\n",
              "    </tr>\n",
              "    <tr>\n",
              "      <th>2008-01-04</th>\n",
              "      <td>57.470001</td>\n",
              "      <td>56.430000</td>\n",
              "      <td>57.330002</td>\n",
              "      <td>57.049999</td>\n",
              "      <td>9687500.0</td>\n",
              "      <td>38.341091</td>\n",
              "    </tr>\n",
              "    <tr>\n",
              "      <th>2008-01-07</th>\n",
              "      <td>58.250000</td>\n",
              "      <td>56.869999</td>\n",
              "      <td>57.360001</td>\n",
              "      <td>58.029999</td>\n",
              "      <td>10784500.0</td>\n",
              "      <td>38.999710</td>\n",
              "    </tr>\n",
              "    <tr>\n",
              "      <th>2008-01-08</th>\n",
              "      <td>58.639999</td>\n",
              "      <td>56.959999</td>\n",
              "      <td>58.439999</td>\n",
              "      <td>57.080002</td>\n",
              "      <td>10080800.0</td>\n",
              "      <td>38.361263</td>\n",
              "    </tr>\n",
              "  </tbody>\n",
              "</table>\n",
              "</div>"
            ],
            "text/plain": [
              "                 High        Low       Open      Close      Volume  Adj Close\n",
              "Date                                                                         \n",
              "2008-01-02  59.480000  57.889999  59.480000  58.099998   7858300.0  39.046745\n",
              "2008-01-03  58.799999  57.740002  58.400002  57.930000   6514700.0  38.932507\n",
              "2008-01-04  57.470001  56.430000  57.330002  57.049999   9687500.0  38.341091\n",
              "2008-01-07  58.250000  56.869999  57.360001  58.029999  10784500.0  38.999710\n",
              "2008-01-08  58.639999  56.959999  58.439999  57.080002  10080800.0  38.361263"
            ]
          },
          "metadata": {
            "tags": []
          },
          "execution_count": 2
        }
      ]
    },
    {
      "cell_type": "code",
      "metadata": {
        "colab": {
          "base_uri": "https://localhost:8080/"
        },
        "id": "6e86nUFpKduL",
        "outputId": "f6fe6e38-f36a-4cc8-932d-ba62701b97ba"
      },
      "source": [
        "# Prepare Data\n",
        "\n",
        "scaler = MinMaxScaler(feature_range=(0,1))\n",
        "scaled_data = scaler.fit_transform(data['Low'].values.reshape(-1,1))\n",
        "scaled_data"
      ],
      "execution_count": 3,
      "outputs": [
        {
          "output_type": "execute_result",
          "data": {
            "text/plain": [
              "array([[0.0659904 ],\n",
              "       [0.06517235],\n",
              "       [0.05802792],\n",
              "       ...,\n",
              "       [0.90892235],\n",
              "       [0.90254147],\n",
              "       [0.8998146 ]])"
            ]
          },
          "metadata": {
            "tags": []
          },
          "execution_count": 3
        }
      ]
    },
    {
      "cell_type": "code",
      "metadata": {
        "id": "7ENhc95qLMxz"
      },
      "source": [
        "prediction_days = 60\n",
        "\n",
        "x_train = []\n",
        "y_train = []\n",
        "\n",
        "for x in range(prediction_days, len(scaled_data)):\n",
        "  x_train.append(scaled_data[x-prediction_days:x, 0])\n",
        "  y_train.append(scaled_data[x, 0])\n",
        "\n",
        "x_train, y_train = np.array(x_train), np.array(y_train)\n",
        "x_train = np.reshape(x_train, (x_train.shape[0], x_train.shape[1], 1))"
      ],
      "execution_count": 4,
      "outputs": []
    },
    {
      "cell_type": "code",
      "metadata": {
        "colab": {
          "base_uri": "https://localhost:8080/"
        },
        "id": "rLWGnfXrMvJ9",
        "outputId": "fd1a63cd-f5d6-4d01-a602-f7d6931c4d54"
      },
      "source": [
        "# Build the model\n",
        "\n",
        "model = Sequential()\n",
        "\n",
        "model.add(LSTM(units=50, return_sequences=True, input_shape=(x_train.shape[1], 1)))\n",
        "model.add(Dropout(0.2))\n",
        "model.add(LSTM(units=50, return_sequences=True))\n",
        "model.add(Dropout(0.2))\n",
        "model.add(LSTM(units=50))\n",
        "model.add(Dropout(0.2))\n",
        "model.add(Dense(units=1)) #Prediction of the next closing price\n",
        "\n",
        "model.compile(optimizer='adam', loss='mean_squared_error')\n",
        "model.fit(x_train, y_train, epochs=25, batch_size=32)\n"
      ],
      "execution_count": 5,
      "outputs": [
        {
          "output_type": "stream",
          "text": [
            "Epoch 1/25\n",
            "101/101 [==============================] - 13s 82ms/step - loss: 0.0136\n",
            "Epoch 2/25\n",
            "101/101 [==============================] - 9s 85ms/step - loss: 0.0028\n",
            "Epoch 3/25\n",
            "101/101 [==============================] - 8s 83ms/step - loss: 0.0026\n",
            "Epoch 4/25\n",
            "101/101 [==============================] - 9s 85ms/step - loss: 0.0024\n",
            "Epoch 5/25\n",
            "101/101 [==============================] - 9s 85ms/step - loss: 0.0025\n",
            "Epoch 6/25\n",
            "101/101 [==============================] - 8s 84ms/step - loss: 0.0021\n",
            "Epoch 7/25\n",
            "101/101 [==============================] - 8s 83ms/step - loss: 0.0020\n",
            "Epoch 8/25\n",
            "101/101 [==============================] - 8s 82ms/step - loss: 0.0017\n",
            "Epoch 9/25\n",
            "101/101 [==============================] - 8s 82ms/step - loss: 0.0017\n",
            "Epoch 10/25\n",
            "101/101 [==============================] - 8s 82ms/step - loss: 0.0017\n",
            "Epoch 11/25\n",
            "101/101 [==============================] - 8s 81ms/step - loss: 0.0020\n",
            "Epoch 12/25\n",
            "101/101 [==============================] - 8s 81ms/step - loss: 0.0014\n",
            "Epoch 13/25\n",
            "101/101 [==============================] - 8s 82ms/step - loss: 0.0014\n",
            "Epoch 14/25\n",
            "101/101 [==============================] - 8s 82ms/step - loss: 0.0015\n",
            "Epoch 15/25\n",
            "101/101 [==============================] - 8s 82ms/step - loss: 0.0014\n",
            "Epoch 16/25\n",
            "101/101 [==============================] - 8s 83ms/step - loss: 0.0015\n",
            "Epoch 17/25\n",
            "101/101 [==============================] - 8s 82ms/step - loss: 0.0013\n",
            "Epoch 18/25\n",
            "101/101 [==============================] - 8s 82ms/step - loss: 0.0012\n",
            "Epoch 19/25\n",
            "101/101 [==============================] - 8s 83ms/step - loss: 0.0013\n",
            "Epoch 20/25\n",
            "101/101 [==============================] - 8s 82ms/step - loss: 0.0012\n",
            "Epoch 21/25\n",
            "101/101 [==============================] - 8s 82ms/step - loss: 0.0012\n",
            "Epoch 22/25\n",
            "101/101 [==============================] - 8s 83ms/step - loss: 0.0011\n",
            "Epoch 23/25\n",
            "101/101 [==============================] - 8s 82ms/step - loss: 0.0011\n",
            "Epoch 24/25\n",
            "101/101 [==============================] - 8s 84ms/step - loss: 0.0010\n",
            "Epoch 25/25\n",
            "101/101 [==============================] - 8s 84ms/step - loss: 0.0010\n"
          ],
          "name": "stdout"
        },
        {
          "output_type": "execute_result",
          "data": {
            "text/plain": [
              "<tensorflow.python.keras.callbacks.History at 0x7f373c325e50>"
            ]
          },
          "metadata": {
            "tags": []
          },
          "execution_count": 5
        }
      ]
    },
    {
      "cell_type": "code",
      "metadata": {
        "id": "-girkww8M2Mu"
      },
      "source": [
        "# Test The Model Accuracy on Existing Data\n",
        "\n",
        "# Load Test Data\n",
        "test_start = dt.datetime(2021,1,1)\n",
        "test_end = dt.datetime.now()\n",
        "\n",
        "test_data = web.DataReader(McD, 'yahoo', test_start, test_end)\n",
        "actual_prices = test_data['Low'].values\n",
        "\n",
        "total_dataset = pd.concat((data['Low'], test_data['Low']), axis=0)\n",
        "\n",
        "model_inputs = total_dataset[len(total_dataset) - len(test_data) - prediction_days:].values\n",
        "model_inputs = model_inputs.reshape(-1, 1)\n",
        "model_inputs = scaler.transform(model_inputs)"
      ],
      "execution_count": 6,
      "outputs": []
    },
    {
      "cell_type": "code",
      "metadata": {
        "id": "Vm0s06f0Pvby"
      },
      "source": [
        "# Make predictions on Test Data\n",
        "\n",
        "x_test = []\n",
        "\n",
        "for x in range(prediction_days, len(model_inputs)):\n",
        "  x_test.append(model_inputs[x-prediction_days:x, 0])\n",
        "\n",
        "x_test = np.array(x_test)\n",
        "x_test = np.reshape(x_test, (x_test.shape[0], x_test.shape[1], 1))\n",
        "\n",
        "predicted_prices = model.predict(x_test)\n",
        "predicted_prices = scaler.inverse_transform(predicted_prices)"
      ],
      "execution_count": 7,
      "outputs": []
    },
    {
      "cell_type": "code",
      "metadata": {
        "colab": {
          "base_uri": "https://localhost:8080/",
          "height": 450
        },
        "id": "pvsFUvExQ3E1",
        "outputId": "eeff06b1-a616-4a01-ee42-31fc495a98fb"
      },
      "source": [
        "# Output Dataframe actual vs. predicted prices\n",
        "\n",
        "Output = pd.DataFrame(data = actual_prices, columns= ['actual_prices'])\n",
        "Output['predicted_prices'] = predicted_prices\n",
        "Output['Dates'] = test_data.iloc[:,0:1].index\n",
        "Output = Output.set_index('Dates')\n",
        "\n",
        "Output"
      ],
      "execution_count": 8,
      "outputs": [
        {
          "output_type": "execute_result",
          "data": {
            "text/html": [
              "<div>\n",
              "<style scoped>\n",
              "    .dataframe tbody tr th:only-of-type {\n",
              "        vertical-align: middle;\n",
              "    }\n",
              "\n",
              "    .dataframe tbody tr th {\n",
              "        vertical-align: top;\n",
              "    }\n",
              "\n",
              "    .dataframe thead th {\n",
              "        text-align: right;\n",
              "    }\n",
              "</style>\n",
              "<table border=\"1\" class=\"dataframe\">\n",
              "  <thead>\n",
              "    <tr style=\"text-align: right;\">\n",
              "      <th></th>\n",
              "      <th>actual_prices</th>\n",
              "      <th>predicted_prices</th>\n",
              "    </tr>\n",
              "    <tr>\n",
              "      <th>Dates</th>\n",
              "      <th></th>\n",
              "      <th></th>\n",
              "    </tr>\n",
              "  </thead>\n",
              "  <tbody>\n",
              "    <tr>\n",
              "      <th>2021-01-04</th>\n",
              "      <td>208.220001</td>\n",
              "      <td>212.955841</td>\n",
              "    </tr>\n",
              "    <tr>\n",
              "      <th>2021-01-05</th>\n",
              "      <td>209.619995</td>\n",
              "      <td>212.681915</td>\n",
              "    </tr>\n",
              "    <tr>\n",
              "      <th>2021-01-06</th>\n",
              "      <td>209.029999</td>\n",
              "      <td>212.315903</td>\n",
              "    </tr>\n",
              "    <tr>\n",
              "      <th>2021-01-07</th>\n",
              "      <td>210.559998</td>\n",
              "      <td>211.894989</td>\n",
              "    </tr>\n",
              "    <tr>\n",
              "      <th>2021-01-08</th>\n",
              "      <td>212.229996</td>\n",
              "      <td>211.561279</td>\n",
              "    </tr>\n",
              "    <tr>\n",
              "      <th>...</th>\n",
              "      <td>...</td>\n",
              "      <td>...</td>\n",
              "    </tr>\n",
              "    <tr>\n",
              "      <th>2021-06-02</th>\n",
              "      <td>232.809998</td>\n",
              "      <td>231.560608</td>\n",
              "    </tr>\n",
              "    <tr>\n",
              "      <th>2021-06-03</th>\n",
              "      <td>230.149994</td>\n",
              "      <td>231.942963</td>\n",
              "    </tr>\n",
              "    <tr>\n",
              "      <th>2021-06-04</th>\n",
              "      <td>232.070007</td>\n",
              "      <td>232.105576</td>\n",
              "    </tr>\n",
              "    <tr>\n",
              "      <th>2021-06-07</th>\n",
              "      <td>231.160004</td>\n",
              "      <td>232.166367</td>\n",
              "    </tr>\n",
              "    <tr>\n",
              "      <th>2021-06-08</th>\n",
              "      <td>231.449997</td>\n",
              "      <td>232.112793</td>\n",
              "    </tr>\n",
              "  </tbody>\n",
              "</table>\n",
              "<p>108 rows × 2 columns</p>\n",
              "</div>"
            ],
            "text/plain": [
              "            actual_prices  predicted_prices\n",
              "Dates                                      \n",
              "2021-01-04     208.220001        212.955841\n",
              "2021-01-05     209.619995        212.681915\n",
              "2021-01-06     209.029999        212.315903\n",
              "2021-01-07     210.559998        211.894989\n",
              "2021-01-08     212.229996        211.561279\n",
              "...                   ...               ...\n",
              "2021-06-02     232.809998        231.560608\n",
              "2021-06-03     230.149994        231.942963\n",
              "2021-06-04     232.070007        232.105576\n",
              "2021-06-07     231.160004        232.166367\n",
              "2021-06-08     231.449997        232.112793\n",
              "\n",
              "[108 rows x 2 columns]"
            ]
          },
          "metadata": {
            "tags": []
          },
          "execution_count": 8
        }
      ]
    },
    {
      "cell_type": "code",
      "metadata": {
        "colab": {
          "base_uri": "https://localhost:8080/",
          "height": 295
        },
        "id": "W5MLr0huQiDp",
        "outputId": "90c76a9d-a585-4600-dc95-0aac0365ad6f"
      },
      "source": [
        "# Plot the Test Predictions\n",
        " \n",
        "plt.plot(Output['actual_prices'], color = \"black\", label=f\"Actual {McD} Price\")\n",
        "plt.plot(Output['predicted_prices'], color = \"red\", label=f\"Predicted {McD} Price\")\n",
        "plt.title(f\"{McD} Share Price\")\n",
        "plt.xlabel('Time')\n",
        "plt.ylabel(f'{McD} Share Price')\n",
        "plt.legend()\n",
        "plt.show()"
      ],
      "execution_count": 9,
      "outputs": [
        {
          "output_type": "display_data",
          "data": {
            "image/png": "[encoded data removed]",
            "text/plain": [
              "<Figure size 432x288 with 1 Axes>"
            ]
          },
          "metadata": {
            "tags": [],
            "needs_background": "light"
          }
        }
      ]
    },
    {
      "cell_type": "code",
      "metadata": {
        "colab": {
          "base_uri": "https://localhost:8080/"
        },
        "id": "HUazz8GvU5ob",
        "outputId": "79ebda74-9c16-4a56-a52e-cdc96c6689f5"
      },
      "source": [
        "# Price Prediction next day\n",
        "\n",
        "real_data = [model_inputs[len(model_inputs) + 1 - prediction_days:len(model_inputs+1), 0]]\n",
        "real_data = np.array(real_data)\n",
        "real_data = np.reshape(real_data, (real_data.shape[0], real_data.shape[1],1))\n",
        "\n",
        "prediction = model.predict(real_data)\n",
        "prediction = scaler.inverse_transform(prediction)\n",
        "print(f\"The model predicts the Low value for the McD shares to be {prediction} tomorrow\")"
      ],
      "execution_count": 10,
      "outputs": [
        {
          "output_type": "stream",
          "text": [
            "WARNING:tensorflow:Model was constructed with shape (None, 60, 1) for input KerasTensor(type_spec=TensorSpec(shape=(None, 60, 1), dtype=tf.float32, name='lstm_input'), name='lstm_input', description=\"created by layer 'lstm_input'\"), but it was called on an input with incompatible shape (None, 59, 1).\n",
            "The model predicts the Low value for the McD shares to be [[231.99898]] tomorrow\n"
          ],
          "name": "stdout"
        }
      ]
    }
  ]
}